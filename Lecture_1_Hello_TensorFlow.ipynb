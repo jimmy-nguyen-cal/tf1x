{
 "cells": [
  {
   "cell_type": "code",
   "execution_count": 8,
   "metadata": {},
   "outputs": [],
   "source": [
    "import tensorflow.compat.v1 as tf"
   ]
  },
  {
   "cell_type": "code",
   "execution_count": 9,
   "metadata": {},
   "outputs": [],
   "source": [
    "hello = tf.constant(\"Hello, TensorFlow!\")"
   ]
  },
  {
   "cell_type": "code",
   "execution_count": 13,
   "metadata": {},
   "outputs": [
    {
     "name": "stdout",
     "output_type": "stream",
     "text": [
      "tf.Tensor(b'Hello, TensorFlow!', shape=(), dtype=string)\n"
     ]
    }
   ],
   "source": [
    "#start the session\n",
    "sess = tf.Session()\n",
    "print(hello)"
   ]
  },
  {
   "cell_type": "code",
   "execution_count": 4,
   "metadata": {},
   "outputs": [
    {
     "name": "stdout",
     "output_type": "stream",
     "text": [
      "Package                Version  \r\n",
      "---------------------- ---------\r\n",
      "absl-py                0.9.0    \r\n",
      "appdirs                1.4.3    \r\n",
      "appnope                0.1.0    \r\n",
      "attrs                  19.3.0   \r\n",
      "backcall               0.1.0    \r\n",
      "bleach                 1.5.0    \r\n",
      "cycler                 0.10.0   \r\n",
      "decorator              4.4.1    \r\n",
      "defusedxml             0.6.0    \r\n",
      "distlib                0.3.0    \r\n",
      "entrypoints            0.3      \r\n",
      "filelock               3.0.12   \r\n",
      "html5lib               0.9999999\r\n",
      "importlib-metadata     1.5.0    \r\n",
      "ipykernel              5.1.4    \r\n",
      "ipython                7.12.0   \r\n",
      "ipython-genutils       0.2.0    \r\n",
      "ipywidgets             7.5.1    \r\n",
      "jedi                   0.16.0   \r\n",
      "Jinja2                 2.11.1   \r\n",
      "joblib                 0.14.1   \r\n",
      "jsonschema             3.2.0    \r\n",
      "jupyter                1.0.0    \r\n",
      "jupyter-client         5.3.4    \r\n",
      "jupyter-console        6.1.0    \r\n",
      "jupyter-core           4.6.3    \r\n",
      "kiwisolver             1.1.0    \r\n",
      "Markdown               3.2.1    \r\n",
      "MarkupSafe             1.1.1    \r\n",
      "matplotlib             3.1.3    \r\n",
      "mistune                0.8.4    \r\n",
      "nbconvert              5.6.1    \r\n",
      "nbformat               5.0.4    \r\n",
      "notebook               6.0.3    \r\n",
      "numpy                  1.18.1   \r\n",
      "pandas                 1.0.1    \r\n",
      "pandocfilters          1.4.2    \r\n",
      "parso                  0.6.1    \r\n",
      "pexpect                4.8.0    \r\n",
      "pickleshare            0.7.5    \r\n",
      "pip                    20.0.2   \r\n",
      "prometheus-client      0.7.1    \r\n",
      "prompt-toolkit         3.0.3    \r\n",
      "protobuf               3.11.3   \r\n",
      "ptyprocess             0.6.0    \r\n",
      "Pygments               2.5.2    \r\n",
      "pyparsing              2.4.6    \r\n",
      "pyrsistent             0.15.7   \r\n",
      "python-dateutil        2.8.1    \r\n",
      "pytz                   2019.3   \r\n",
      "pyzmq                  18.1.1   \r\n",
      "qtconsole              4.6.0    \r\n",
      "scikit-learn           0.22.1   \r\n",
      "scipy                  1.4.1    \r\n",
      "Send2Trash             1.5.0    \r\n",
      "setuptools             45.2.0   \r\n",
      "six                    1.14.0   \r\n",
      "sklearn                0.0      \r\n",
      "tensorflow             1.5.0    \r\n",
      "tensorflow-tensorboard 1.5.1    \r\n",
      "terminado              0.8.3    \r\n",
      "testpath               0.4.4    \r\n",
      "tornado                6.0.3    \r\n",
      "traitlets              4.3.3    \r\n",
      "virtualenv             20.0.3   \r\n",
      "wcwidth                0.1.8    \r\n",
      "Werkzeug               1.0.0    \r\n",
      "wheel                  0.33.6   \r\n",
      "widgetsnbextension     3.5.1    \r\n",
      "zipp                   2.2.0    \r\n"
     ]
    }
   ],
   "source": [
    "!pip list"
   ]
  },
  {
   "cell_type": "code",
   "execution_count": null,
   "metadata": {},
   "outputs": [],
   "source": []
  }
 ],
 "metadata": {
  "kernelspec": {
   "display_name": "Python 3",
   "language": "python",
   "name": "python3"
  },
  "language_info": {
   "codemirror_mode": {
    "name": "ipython",
    "version": 3
   },
   "file_extension": ".py",
   "mimetype": "text/x-python",
   "name": "python",
   "nbconvert_exporter": "python",
   "pygments_lexer": "ipython3",
   "version": "3.7.6"
  }
 },
 "nbformat": 4,
 "nbformat_minor": 4
}
