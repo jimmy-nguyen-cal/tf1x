{
 "cells": [
  {
   "cell_type": "code",
   "execution_count": 1,
   "metadata": {},
   "outputs": [],
   "source": [
    "import tensorflow as tf\n",
    "from tensorflow.contrib import autograph #import autograph from contrib package to use graph mode\n",
    "%load_ext tensorboard\n",
    "import logging\n",
    "logging.getLogger('tensorflow').setLevel(logging.ERROR)\n",
    "\n",
    "import numpy as np\n",
    "import matplotlib.pyplot as plt\n",
    "%matplotlib inline\n",
    "import pandas as pd \n",
    "import seaborn as sns\n",
    "from scipy import stats \n",
    "from scipy import linalg"
   ]
  },
  {
   "cell_type": "code",
   "execution_count": 2,
   "metadata": {},
   "outputs": [
    {
     "name": "stdout",
     "output_type": "stream",
     "text": [
      "1.15.0\n"
     ]
    }
   ],
   "source": [
    "print(tf.__version__)"
   ]
  },
  {
   "cell_type": "markdown",
   "metadata": {},
   "source": [
    "-----\n",
    "\n",
    "**Control Statements in TensorFlow**\n",
    "\n",
    "- Syntax of if:\n",
    "    \n",
    "        tf.cond(condition, execute if it is true, execute if condition is false)\n",
    "- Syntax of while:\n",
    "    - while_loop implements non-strict semantics, enabling multiple iterations to run parallel\n",
    "    \n",
    "            tf.while_loop(cond, body, loop_vars, shape_invariants = None, parallel_iterations = 10 ...)\n",
    " "
   ]
  },
  {
   "cell_type": "code",
   "execution_count": 10,
   "metadata": {},
   "outputs": [
    {
     "name": "stdout",
     "output_type": "stream",
     "text": [
      "[50000, 50000]\n"
     ]
    }
   ],
   "source": [
    "g3 = tf.Graph()\n",
    "\n",
    "with g3.as_default():\n",
    "    @tf.function\n",
    "    def cond(Calculated_op, Desired_op): #condition on which while will iterate\n",
    "        return tf.math.not_equal(Calculated_op, Desired_op) #return equality beteween Calculated_op, Desired_op\n",
    "    \n",
    "    @tf.function\n",
    "    def body(Calculated_op, Desired_op): #body will execute\n",
    "        #checks if calculated value is greater than Desired_op and take decision\n",
    "        re = tf.cond(tf.less(Calculated_op, Desired_op), lambda: Calculated_op + 10, lambda: Calculated_op - 10)\n",
    "        return [re, Desired_op]\n",
    "    \n",
    "    Calculated_op = tf.constant(100)\n",
    "    Desired_op = tf.constant(50000)\n",
    "    \n",
    "with tf.Session(graph = g3) as sess:\n",
    "    res = sess.run(tf.while_loop(cond, body, [Calculated_op, Desired_op]))\n",
    "    print(res)\n"
   ]
  },
  {
   "cell_type": "markdown",
   "metadata": {},
   "source": [
    "-----\n",
    "**Class Exercise**\n",
    "- Simple Calculator using Class and Functions"
   ]
  },
  {
   "cell_type": "code",
   "execution_count": 13,
   "metadata": {},
   "outputs": [
    {
     "name": "stdout",
     "output_type": "stream",
     "text": [
      "Please enter a number for the radius of a circle: 5\n",
      "78.5\n"
     ]
    }
   ],
   "source": [
    "\n",
    "class calculator():\n",
    "\n",
    "    def __init__(self, radius):\n",
    "        self.radius = radius\n",
    "\n",
    "    def compute_area(self):\n",
    "        g = tf.Graph()\n",
    "\n",
    "        with g.as_default():\n",
    "\n",
    "            pi = tf.constant(3.14, name=\"pi\")\n",
    "            float_radius = tf.constant(self.radius, dtype=tf.float32, name = \"radius\")\n",
    "\n",
    "            r2 = tf.pow(float_radius, 2)\n",
    "            result = tf.math.multiply(pi, r2)\n",
    "\n",
    "            with tf.Session() as sess:\n",
    "                output = sess.run(result)\n",
    "                return output\n",
    "\n",
    "\n",
    "radius = int(input(\"Please enter a number for the radius of a circle: \"))\n",
    "\n",
    "c = calculator(radius)\n",
    "print(c.compute_area())\n"
   ]
  },
  {
   "cell_type": "markdown",
   "metadata": {},
   "source": [
    "-----\n",
    "\n",
    "**Data Mining**\n",
    "\n",
    "1. What is __data mining?__\n",
    "    - is defined as the process of discovering patterns in data \n",
    "    - is about solving problems by analyzing data already present in datasets / databases \n",
    "    - In data mining, the data is stored electronically, and the search is automated \n",
    "    - Data mining is a topic that involves learning in a practical, nontheoretical sense\n",
    "    - It is about finding and describing previously unknown patterns in data \n",
    "    - The output may include a description of a structure that can be used to classify unknown examples\n",
    "    - It is about the acquision of knowledge and the ability to use it\n",
    "    \n",
    "**Machine Learning**\n",
    "2. What is __machine learning?__\n",
    "    - Basics\n",
    "        - What is an attribute\n",
    "            - each instance that provides the input to machine learning is characterized by its values on a fixed, predefined set of features or attributes \n",
    "            - Ex. in the weather, the attribute has the values: hot > mild > cold\n",
    "            - Basic attribute data types can be: nominal and numeric\n",
    "                - string attributes = nominal, date attributes = numeric\n",
    "    - **Supervised Machine Learning**\n",
    "        - have input variables (X) and output variables (Y) and we use an algorithm to learn the mapping function from the input to the output \n",
    "        - it is **supervised learning** because the process of learning from the training dataset can be thought of as a teacher supervising the learning process\n",
    "            - Two Groups of Supervised machine learning:\n",
    "                - **Classification**\n",
    "                    - when the output variable is a category such as colors \n",
    "                - **Regression**\n",
    "                    - when the output variable is a real value such as dollars or weight \n",
    "                - **Examples:** Linear Regression, random forest for classification and regression problems, Support vector machines for classification problems\n",
    "                \n",
    "    - **Unsupervised Machine Learning**\n",
    "        - is where you only have input data(X) and no corresponding output variables \n",
    "        - the goal is to **model the underlying structure** or distribution in the data to learn more about the data \n",
    "        - Algorithms are left to their own devises to discover and present the interesting structure in the data.\n",
    "            - **Clustering**\n",
    "                - a clustering is where you want to discover the inherent groupings in the data, such as grouping customers by purchasing behavior\n",
    "            - **Association** \n",
    "                - An association learning problem is where you want to discover rules that describe large portions of your data, such as people that buy X also tend to buy Y. \n",
    "            - **Examples:**\n",
    "                - K-means for clustering problems\n",
    "                - A priori algorithm for association rule learning problems\n",
    "                \n",
    "     - **Semi-Supervised Machine learning**\n",
    "         - Problems where we have a large amount of input data and only some of it is labeled \n",
    "             - a good example is a photo archive where only some of the images are labeled and the majority are unlabeled '(hence unlabeled data is cheap and easy to collect and store \n",
    "             - you can also use supervised learning techniques to make best guess predictions for the unlabeled data, feed that data back into the supervised algorithm as training data and use the model to make predictions on new unseen data (back propagation)\n",
    "             \n",
    "3. Clustering techniques\n",
    "    - apply when there is no class to be predicted: they perform unsupervised learning \n",
    "        - disjoint vs overlapping\n",
    "        - deterministic vs probabiistic \n",
    "        - flat vs. hierarchical \n",
    "        - kmeans = disjoint, deterministic, and flat \n",
    "   "
   ]
  },
  {
   "cell_type": "markdown",
   "metadata": {},
   "source": [
    "-----\n",
    "\n",
    "**K-Means** "
   ]
  },
  {
   "cell_type": "markdown",
   "metadata": {},
   "source": [
    "https://sites.google.com/site/dataclusteringalgorithms/k-means-clustering-algorithm"
   ]
  },
  {
   "cell_type": "code",
   "execution_count": null,
   "metadata": {},
   "outputs": [],
   "source": []
  }
 ],
 "metadata": {
  "kernelspec": {
   "display_name": "tf1x",
   "language": "python",
   "name": "tf1x"
  },
  "language_info": {
   "codemirror_mode": {
    "name": "ipython",
    "version": 3
   },
   "file_extension": ".py",
   "mimetype": "text/x-python",
   "name": "python",
   "nbconvert_exporter": "python",
   "pygments_lexer": "ipython3",
   "version": "3.7.6"
  }
 },
 "nbformat": 4,
 "nbformat_minor": 4
}
