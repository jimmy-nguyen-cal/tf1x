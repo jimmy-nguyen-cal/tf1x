{
 "cells": [
  {
   "cell_type": "code",
   "execution_count": 1,
   "metadata": {},
   "outputs": [],
   "source": [
    "import tensorflow as tf\n",
    "from tensorflow.contrib import autograph #import autograph from contrib package to use graph mode\n",
    "%load_ext tensorboard\n",
    "import logging\n",
    "logging.getLogger('tensorflow').setLevel(logging.ERROR)\n",
    "\n",
    "import numpy as np\n",
    "import matplotlib.pyplot as plt\n",
    "%matplotlib inline\n",
    "import pandas as pd \n",
    "import seaborn as sns\n",
    "from scipy import stats \n",
    "from scipy import linalg"
   ]
  },
  {
   "cell_type": "code",
   "execution_count": 2,
   "metadata": {},
   "outputs": [
    {
     "name": "stdout",
     "output_type": "stream",
     "text": [
      "1.15.0\n"
     ]
    }
   ],
   "source": [
    "print(tf.__version__)"
   ]
  },
  {
   "cell_type": "markdown",
   "metadata": {},
   "source": [
    "-----\n",
    "\n",
    "**Hw#2 Solution**"
   ]
  },
  {
   "cell_type": "code",
   "execution_count": 3,
   "metadata": {},
   "outputs": [],
   "source": [
    "## Single input node: #with this shape a[3,5]\n",
    "a = np.mat([[2,4,5,6,7], [4,2,6,7,9], [9,8,3,3,1]]) # numpy matrix\n",
    "a = tf.constant(a, dtype = np.int64, name=\"input_matrix\")\n",
    "\n",
    "#Operations\n",
    "b = tf.reduce_prod(a, name = \"prod_b\")\n",
    "c = tf.reduce_mean(a, name =\"mean\")\n",
    "e = tf.add(b,c, name=\"add_d\")\n",
    "d = tf.reduce_sum(a, name =\"sum_a\")\n",
    "f = tf.add(e,d, name=\"final_add\")\n",
    "\n",
    "# run the session\n",
    "sess = tf.Session()\n",
    "sess.run(f)\n",
    "\n",
    "# To create the graph:\n",
    "sess.graph.as_graph_def()\n",
    "file_writer = tf.summary.FileWriter('./graphs', sess.graph)\n",
    "\n",
    "# We clean up before we exit()\n",
    "file_writer.close()\n",
    "sess.close()\n"
   ]
  },
  {
   "cell_type": "code",
   "execution_count": 4,
   "metadata": {},
   "outputs": [
    {
     "data": {
      "text/plain": [
       "Reusing TensorBoard on port 6006 (pid 3916), started 2:03:32 ago. (Use '!kill 3916' to kill it.)"
      ]
     },
     "metadata": {},
     "output_type": "display_data"
    },
    {
     "data": {
      "text/html": [
       "\n",
       "      <iframe id=\"tensorboard-frame-ad09755fcc131384\" width=\"100%\" height=\"800\" frameborder=\"0\">\n",
       "      </iframe>\n",
       "      <script>\n",
       "        (function() {\n",
       "          const frame = document.getElementById(\"tensorboard-frame-ad09755fcc131384\");\n",
       "          const url = new URL(\"/\", window.location);\n",
       "          url.port = 6006;\n",
       "          frame.src = url;\n",
       "        })();\n",
       "      </script>\n",
       "  "
      ],
      "text/plain": [
       "<IPython.core.display.HTML object>"
      ]
     },
     "metadata": {},
     "output_type": "display_data"
    }
   ],
   "source": [
    "tensorboard --logdir=\"./graphs\" "
   ]
  },
  {
   "cell_type": "markdown",
   "metadata": {},
   "source": [
    "----\n",
    "**Generic frame of modeling in Machine Learning**\n",
    "\n",
    "Goals: \n",
    "- Focus on supervised learning problems, where we train an inference model with an input dataset, along with the real or expected output for each example\n",
    "- \"inference model\": is a series of mathematical operations that we apply to our data\n",
    "\n",
    "**Training Loop:**\n",
    "\n",
    "- Initializes the model parameters for the first time\n",
    "- Reads the traing data along with the expected output data for each data example\n",
    "- Executes the inference model on the training data, so it calculates for each training input example\n",
    "- Computes the loss\n",
    "- Adjusts the model parameters\n",
    "- loop repeats through several cycles\n",
    "\n",
    "**After training, we apply an evaluation phase**\n",
    "- we execute the inference against a different set data to which we also have the expected output and evaluate the loss for it.\n",
    "- Given how this dataset contains examples unknown for the model, the evaluation tells us how well the model predicts beyond its training.\n",
    "-  A very common practice is to take the original dataset and randomly split it in 70% of the examples for training, and 30% for evaluation\n",
    "\n",
    "---\n",
    "**Generic Frame for the model code**"
   ]
  },
  {
   "cell_type": "markdown",
   "metadata": {},
   "source": [
    "```python \n",
    "# initialize variables/model parameters\n",
    "\n",
    "#define the training loop operations \n",
    "\n",
    "def inference(X):\n",
    "    pass\n",
    "    # compute inference model over data X and return the result \n",
    "\n",
    "def loss(X,Y):\n",
    "    pass\n",
    "    #Compute loss over training data X and expected outputs Y\n",
    "\n",
    "def inputs():\n",
    "    pass\n",
    "    # read/generate input training data X and expected data Y \n",
    "    \n",
    "def train(total_loss):\n",
    "    pass\n",
    "    # train/adjust model parameters according to computed total loss\n",
    "\n",
    "def evaluate(sess, X,Y):\n",
    "    pass\n",
    "    #evaluate the resulting trained model\n",
    "    \n",
    "    \n",
    "# Launch the graph in a session, setup boilerplate\n",
    "\n",
    "with tf.Session() as sess:\n",
    "    tf.initialize_all_variables().run()\n",
    "    \n",
    "    X,Y = inputs()\n",
    "    \n",
    "    total_loss = loss(X,Y)\n",
    "    train_op = train(total_loss)\n",
    "    \n",
    "    coord = tf.train.Coordinator()\n",
    "    threads = tf.train.start_queue_runners(sess = sess, coord =coord)\n",
    "    \n",
    "    #actual training loop\n",
    "    training_steps = 1000\n",
    "    for step in range(training_steps):\n",
    "        sess.run([train_op])\n",
    "        if step % 10 == 0:\n",
    "            print(\"loss: \", sess.run([total_loss]))\n",
    "    evaluate(sess, X, y)\n",
    "    \n",
    "    coord.request_stop()\n",
    "    coord.join(threads)\n",
    "    sess.close()\n",
    " \n",
    " ```"
   ]
  },
  {
   "cell_type": "markdown",
   "metadata": {},
   "source": [
    "-----\n",
    "\n",
    "**Saving Checkpoints in TF**\n",
    " - Queing and threading in tensorflow"
   ]
  },
  {
   "cell_type": "markdown",
   "metadata": {},
   "source": [
    "```python\n",
    "\n",
    "# Queuing and Threading:\n",
    "dummy_input = tf.random_normal([8], mean =0.5, stddev=2)\n",
    "dummy_input = tf.Print(dummy_input, data=[dummy_input], message=\"new dummy inputs have been created: \", summarize = 6)\n",
    "\n",
    "q = tf.FIFOQueue(capacity=3, dtypes=tf.float32)\n",
    "enqueue_op = q.enqueue_many(dummy_input)\n",
    "\n",
    "#Now set up a queue runner to handle enqueue_op outside of the main thread asynchronously\n",
    "qr = tf.train.QueueRunner(q, [enqueue_op] * 10)\n",
    "tf.train.add_queue_runner(qr)\n",
    "\n",
    "data = q.dequeue()\n",
    "data = tf.Print(data, data=[q.size(), data], message= \"this is how many items are left in q: \")\n",
    "#create a fake graph that we can call upon\n",
    "fg =data +1\n",
    "\n",
    "with tf.Session() as sess:\n",
    "    coord = tf.train.Coordinator()\n",
    "    threads = tf.train.start_queue_runners(coord= coord)\n",
    "    #Now dequeue a few times, and we should see the number of items in the queue decrease\n",
    "    sess.run(fg)\n",
    "    sess.run(fg)\n",
    "    sess.run(fg)\n",
    "    # we have a queue runner on another thread making sure the queue is fill asynchronously \n",
    "    sess.run(fg)\n",
    "    sess.run(fg)\n",
    "    sess.run(fg)\n",
    "    # this will print, but not necessarily after the 6th call of sess.run(fg)\n",
    "    print(\"We're here!\")\n",
    "    coord.request_stop()\n",
    "    coord.join(threads)\n",
    "    \n",
    "```"
   ]
  },
  {
   "cell_type": "markdown",
   "metadata": {},
   "source": [
    "----\n",
    "\n",
    "**Saving Training checkpoints**\n",
    "\n",
    "\n",
    "- As we already stated, training models implies updating their parameters, or variables in Tensorflow, through many training cycles\n",
    "- Variables are stored in memory, so if the computer would lose power after many hours of training, we would lose all that work, so …\n",
    "- We use tf.train.Saver class to save the graph variables in proprietary binary files\n",
    "- We should periodically save the variables, create a checkpoint file, and eventually restore the training from the most recent checkpoint if needed."
   ]
  },
  {
   "cell_type": "markdown",
   "metadata": {},
   "source": [
    "```python\n",
    "\n",
    "#model definition code ...\n",
    "\n",
    "# Create a saver\n",
    "saver = tf.train.Saver()\n",
    "\n",
    "#Launch the graph in a session, setup boilerplate\n",
    "with tf.Session() sess:\n",
    "    # model set up ...\n",
    "    \n",
    "    initial_step = 0\n",
    "    # verify if we don't have a checkpoint saved already\n",
    "    cpkt = tf.train.get_checkpoint_state(os.path.dirname(__file__))\n",
    "        if cpkt and ckpt.model_checkpoint_path:\n",
    "            # restores from checkpint \n",
    "            saver.restore(sess, cpkt.model_checkpoint_path)\n",
    "            initial_step = int(cpkt.model_checkpoint_path.rsplit('-',1)[1]\n",
    "\n",
    "    #actual training loop\n",
    "    training_steps = 1000\n",
    "    for step in range(training_steps):\n",
    "        sess.run([train_op])\n",
    "        \n",
    "        if step % 1000 == 0:\n",
    "            saver.save(sess, 'my-model', global_step = step)\n",
    "            \n",
    "    #evaluation...\n",
    "    \n",
    "    saver.save(sess, \"my-model\", global_step = training_steps)\n",
    "    sess.close()\n",
    "\n",
    "```"
   ]
  },
  {
   "cell_type": "markdown",
   "metadata": {},
   "source": [
    "**Linear Regression**\n",
    "\n",
    "```python\n",
    "\n",
    "Y= XW.T + b\n",
    "```\n",
    "\n",
    "**Weights**\n",
    "- However, instead of transposing weights, we can simply define them as a single column vector\n"
   ]
  },
  {
   "cell_type": "code",
   "execution_count": 5,
   "metadata": {},
   "outputs": [],
   "source": [
    "# Initialize variables/model parameters\n",
    "\n",
    "W = tf.Variable(tf.zeros([2,1]), name = \"weights\")\n",
    "b = tf.Variable(0., name=\"bias\")\n",
    "\n",
    "def inference(X):\n",
    "    return tf.matmul(X,W) + b"
   ]
  },
  {
   "cell_type": "markdown",
   "metadata": {},
   "source": [
    "**Compute the loss**\n",
    "\n",
    "- For a simple model we can use the **squared error**:\n",
    "    - It sums the squared difference of all the predicted values for each training example with their corresponding expected values.\n",
    "    - Algebraically it is the squared Euclidean distance between the **predicted output vector and the expected one**\n",
    "- Graphically in a 2d dataset the error is the length of the vertical line that you can trace from the expected data point to the predicted regression line.\n",
    "- It is also known as **L2 norm or L2 loss function.**\n",
    "- We use it squared to avoid computing the square root, since it makes no difference for trying to minimize the loss and saves a computing step:"
   ]
  },
  {
   "cell_type": "code",
   "execution_count": 6,
   "metadata": {},
   "outputs": [],
   "source": [
    "def loss(X,Y):\n",
    "    Y_predicted = inference(X)\n",
    "    return tf.reduce_sum(tf.squared_difference(Y,Y_predicted))"
   ]
  },
  {
   "cell_type": "markdown",
   "metadata": {},
   "source": [
    "**Model Training operation** \n",
    "- We will use the gradient descent algorithm for optimizing the model parameters:\n",
    "- when you run it, you will see printed how the loss gets smaller on each training step"
   ]
  },
  {
   "cell_type": "code",
   "execution_count": 7,
   "metadata": {},
   "outputs": [],
   "source": [
    "def train(total_loss):\n",
    "    learning_rate = 0.0000001\n",
    "    return tf.train.GradientDescentOptimizer(learning_rate).minimize(total_loss)"
   ]
  },
  {
   "cell_type": "markdown",
   "metadata": {},
   "source": [
    "**Evaluation**\n",
    "- Now that we trained the model, its time to evaluate it\n",
    "- Also, the output values are in-between the boundaries of the original trained values."
   ]
  },
  {
   "cell_type": "code",
   "execution_count": 8,
   "metadata": {},
   "outputs": [],
   "source": [
    "def evaluate(sess, X, Y):\n",
    "    print(sess.run(inference([[80., 25.]]))) # ~303\n",
    "    print(sess.run(inference([[65., 25.]]))) # ~ 256"
   ]
  },
  {
   "cell_type": "markdown",
   "metadata": {},
   "source": [
    "**Launch Graph in Session**"
   ]
  },
  {
   "cell_type": "markdown",
   "metadata": {},
   "source": [
    "```python\n",
    "with tf.Session() as sess:\n",
    "    tf.initialize_all_variables().run()\n",
    "\n",
    "    X,Y = inputs()\n",
    "    total_loss = loss(X,Y)\n",
    "    train_op = train(total_loss)\n",
    "\n",
    "    #actual training loop\n",
    "    training_steps = 10000\n",
    "    for step in range(training_steps):\n",
    "        sess.run([train_op])\n",
    "        if step % 1000 == 0:\n",
    "            print(\"Epoch: \", step, \"loss: \", sess.run([total_loss]))\n",
    "    \n",
    "    print(\"Final model W= \", sess.run(W) \"b=\" , sess.run(b))\n",
    "    evaluate(sess, X, Y)\n",
    "\n",
    "    sess.close()\n",
    "    \n",
    "```"
   ]
  },
  {
   "cell_type": "markdown",
   "metadata": {},
   "source": [
    "**Linear Regression in TF 1.x**"
   ]
  },
  {
   "cell_type": "markdown",
   "metadata": {},
   "source": [
    "```python \n",
    "\n",
    "basic_graph = tf.Graph()\n",
    "with basic_graph.as_default():\n",
    "    a = tf.placeholder(name=\"a\",\n",
    "                      dtype= tf.float32,\n",
    "                      shape =(None, 5))\n",
    "    W = tf.Variable(tf.random_normal((5,3)), name = \"W\") #initialize it with random\n",
    "    b = tf.Variable(tf.random_normal((3,)), name=\"b\") # initialize it with random\n",
    "    \n",
    "#Create a session to run the graph\n",
    "with tf.Session(graph=basic_graph) as sess:\n",
    "    #writer =tf.summary.FileWriter('./graphs/basic_addition_graph', sess.graph)\n",
    "    #tensorboard --logdir=\"./graphs/basic_addition_graph -port=8800\"\n",
    "    print(sess.run(y, feed_dict={a: np.random.uniform(size = (500,5))}))\n",
    "    print(b.eval)\n",
    "    \n",
    "```\n"
   ]
  },
  {
   "cell_type": "markdown",
   "metadata": {},
   "source": [
    "---\n",
    "\n",
    "**Logistic Regression**\n",
    "\n",
    "- sigmoid function\n",
    "        \n",
    "        f(x) = 1/(1+e)**-x\n",
    "        \n",
    " \n",
    " - In order to feed the function with the multiple dimensions, or features from the examples of our training datasets, we need to combine them into a single value\n",
    " \n",
    "```python\n",
    "\n",
    "# same parameters and variable initializations as log reg\n",
    "W = tf.Variable(tf.zeros([5,1]), name =\"weights\")\n",
    "b = tf.Variable(0., name=\"bias\")\n",
    "\n",
    "# former inference is now sued for combinding inputs\n",
    "def combine_inputs(X):\n",
    "    return tf.matmul(X,W) + b\n",
    "\n",
    "#new inferred value is the sigmoid applied to the former\n",
    "def inference(X):\n",
    "    return tf.sigmoid(combine_inputs(X))\n",
    "\n",
    "```"
   ]
  },
  {
   "cell_type": "code",
   "execution_count": 9,
   "metadata": {},
   "outputs": [
    {
     "data": {
      "text/plain": [
       "<matplotlib.collections.PathCollection at 0x1354abb50>"
      ]
     },
     "execution_count": 9,
     "metadata": {},
     "output_type": "execute_result"
    },
    {
     "data": {
      "image/png": "[encoded data removed]",
      "text/plain": [
       "<Figure size 432x288 with 1 Axes>"
      ]
     },
     "metadata": {
      "needs_background": "light"
     },
     "output_type": "display_data"
    }
   ],
   "source": [
    "learning_rate = 0.01 \n",
    "training_epochs = 500\n",
    "\n",
    "#Defining the sigmoid function:\n",
    "def sigmoid(x):\n",
    "    return 1./ (1. + np.exp(-x))\n",
    "\n",
    "# Create our data points on the x and y axis:\n",
    "x1 = np.random.normal(5,3,100)\n",
    "x2 = np.random.normal(-5, 3, 100)\n",
    "xs = np.append(x1, x2)\n",
    "ys = np.asarray([0.] * len(x1) + [1.] * len(x2))\n",
    "plt.scatter(xs,ys)"
   ]
  },
  {
   "cell_type": "code",
   "execution_count": 10,
   "metadata": {},
   "outputs": [],
   "source": [
    "# Create our parameters and palceholders for X and Y to feed them with the data above:\n",
    "X = tf.placeholder(tf.float32, shape=(None,), name=\"x\")\n",
    "Y =X = tf.placeholder(tf.float32, shape=(None,), name=\"y\")\n",
    "w = tf.Variable([0.,0.], name=\"parameter\", trainable = True)\n",
    "y_model = tf.sigmoid(-(w[1] * X + w[0]))"
   ]
  },
  {
   "cell_type": "code",
   "execution_count": 11,
   "metadata": {},
   "outputs": [
    {
     "name": "stdout",
     "output_type": "stream",
     "text": [
      "[0.5 0.5 0.5 0.5 0.5 0.5 0.5 0.5 0.5 0.5 0.5 0.5 0.5 0.5 0.5 0.5 0.5 0.5\n",
      " 0.5 0.5 0.5 0.5 0.5 0.5 0.5 0.5 0.5 0.5 0.5 0.5 0.5 0.5 0.5 0.5 0.5 0.5\n",
      " 0.5 0.5 0.5 0.5 0.5 0.5 0.5 0.5 0.5 0.5 0.5 0.5 0.5 0.5 0.5 0.5 0.5 0.5\n",
      " 0.5 0.5 0.5 0.5 0.5 0.5 0.5 0.5 0.5 0.5 0.5 0.5 0.5 0.5 0.5 0.5 0.5 0.5\n",
      " 0.5 0.5 0.5 0.5 0.5 0.5 0.5 0.5 0.5 0.5 0.5 0.5 0.5 0.5 0.5 0.5 0.5 0.5\n",
      " 0.5 0.5 0.5 0.5 0.5 0.5 0.5 0.5 0.5 0.5 0.5 0.5 0.5 0.5 0.5 0.5 0.5 0.5\n",
      " 0.5 0.5 0.5 0.5 0.5 0.5 0.5 0.5 0.5 0.5 0.5 0.5 0.5 0.5 0.5 0.5 0.5 0.5\n",
      " 0.5 0.5 0.5 0.5 0.5 0.5 0.5 0.5 0.5 0.5 0.5 0.5 0.5 0.5 0.5 0.5 0.5 0.5\n",
      " 0.5 0.5 0.5 0.5 0.5 0.5 0.5 0.5 0.5 0.5 0.5 0.5 0.5 0.5 0.5 0.5 0.5 0.5\n",
      " 0.5 0.5 0.5 0.5 0.5 0.5 0.5 0.5 0.5 0.5 0.5 0.5 0.5 0.5 0.5 0.5 0.5 0.5\n",
      " 0.5 0.5 0.5 0.5 0.5 0.5 0.5 0.5 0.5 0.5 0.5 0.5 0.5 0.5 0.5 0.5 0.5 0.5\n",
      " 0.5 0.5]\n"
     ]
    }
   ],
   "source": [
    "with tf.Session() as sess:\n",
    "    tf.initialize_all_variables().run()\n",
    "    print(sess.run(y_model, feed_dict={X:xs}))"
   ]
  },
  {
   "cell_type": "markdown",
   "metadata": {},
   "source": [
    "---\n",
    "\n",
    "**not finished**"
   ]
  },
  {
   "cell_type": "code",
   "execution_count": null,
   "metadata": {},
   "outputs": [],
   "source": []
  }
 ],
 "metadata": {
  "kernelspec": {
   "display_name": "tf1x",
   "language": "python",
   "name": "tf1x"
  },
  "language_info": {
   "codemirror_mode": {
    "name": "ipython",
    "version": 3
   },
   "file_extension": ".py",
   "mimetype": "text/x-python",
   "name": "python",
   "nbconvert_exporter": "python",
   "pygments_lexer": "ipython3",
   "version": "3.7.6"
  }
 },
 "nbformat": 4,
 "nbformat_minor": 4
}
