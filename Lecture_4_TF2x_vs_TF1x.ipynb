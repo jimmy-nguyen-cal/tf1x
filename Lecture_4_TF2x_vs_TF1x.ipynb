{
 "cells": [
  {
   "cell_type": "code",
   "execution_count": 1,
   "metadata": {},
   "outputs": [],
   "source": [
    "import tensorflow as tf\n",
    "%load_ext tensorboard\n",
    "import logging\n",
    "logging.getLogger('tensorflow').setLevel(logging.ERROR)\n",
    "\n",
    "import numpy as np\n",
    "import matplotlib.pyplot as plt\n",
    "%matplotlib inline\n",
    "import pandas as pd \n",
    "import seaborn as sns\n",
    "from scipy import stats \n",
    "from scipy import linalg"
   ]
  },
  {
   "cell_type": "code",
   "execution_count": 2,
   "metadata": {},
   "outputs": [
    {
     "name": "stdout",
     "output_type": "stream",
     "text": [
      "1.15.0\n"
     ]
    }
   ],
   "source": [
    "print(tf.__version__)"
   ]
  },
  {
   "cell_type": "markdown",
   "metadata": {},
   "source": [
    "-----\n",
    "\n",
    "**In-class Exercise**\n",
    "\n",
    "1. Create a graph that produces a 3x4 matrix, where an op is added to the default graph and you:\n",
    "\n",
    "    - add a node A as a matrix of shape [3,2] with some constants \n",
    "    - add a node B as a matrix opened to take variables of type float32 (use placeholder)\n",
    "    - add an operation of their product to the graph producing an output matrix of shape [3,4]\n",
    "    - print the resulting matrix on the screen"
   ]
  },
  {
   "cell_type": "code",
   "execution_count": 3,
   "metadata": {},
   "outputs": [
    {
     "name": "stdout",
     "output_type": "stream",
     "text": [
      "[[18. 10. 13. 10.]\n",
      " [38. 26. 35. 22.]\n",
      " [58. 42. 57. 34.]]\n"
     ]
    }
   ],
   "source": [
    "#node A\n",
    "a = tf.constant(np.array([[1,2.],[3,4],[5,6.]], \n",
    "                         dtype=np.float32),\n",
    "               name = \"node_A\")\n",
    "\n",
    "#node B\n",
    "b = tf.placeholder(dtype = tf.float32, name = \"node_B\")\n",
    "product = tf.matmul(a,b)\n",
    "\n",
    "with tf.Session() as sess:\n",
    "    input_dict = {b: [[2.,6,9,2.],[8,2,2,4]]}\n",
    "    result = sess.run(product, feed_dict = input_dict)\n",
    "    print(result)"
   ]
  },
  {
   "cell_type": "code",
   "execution_count": 4,
   "metadata": {},
   "outputs": [
    {
     "name": "stdout",
     "output_type": "stream",
     "text": [
      "4\n",
      "<dtype: 'int32'>\n"
     ]
    }
   ],
   "source": [
    "sess = tf.Session()\n",
    "result = tf.math.pow(2,2)\n",
    "print(sess.run(result))\n",
    "print(result.dtype)"
   ]
  },
  {
   "cell_type": "code",
   "execution_count": null,
   "metadata": {},
   "outputs": [],
   "source": [
    "t"
   ]
  }
 ],
 "metadata": {
  "kernelspec": {
   "display_name": "tf1x",
   "language": "python",
   "name": "tf1x"
  },
  "language_info": {
   "codemirror_mode": {
    "name": "ipython",
    "version": 3
   },
   "file_extension": ".py",
   "mimetype": "text/x-python",
   "name": "python",
   "nbconvert_exporter": "python",
   "pygments_lexer": "ipython3",
   "version": "3.7.6"
  }
 },
 "nbformat": 4,
 "nbformat_minor": 4
}
