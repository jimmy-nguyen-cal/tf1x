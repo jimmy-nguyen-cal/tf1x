{
 "cells": [
  {
   "cell_type": "code",
   "execution_count": 1,
   "metadata": {},
   "outputs": [],
   "source": [
    "import tensorflow as tf\n",
    "from tensorflow.contrib import autograph #import autograph from contrib package to use graph mode\n",
    "%load_ext tensorboard\n",
    "import logging\n",
    "logging.getLogger('tensorflow').setLevel(logging.ERROR)\n",
    "\n",
    "import numpy as np\n",
    "import matplotlib.pyplot as plt\n",
    "%matplotlib inline\n",
    "import pandas as pd \n",
    "import seaborn as sns\n",
    "from scipy import stats \n",
    "from scipy import linalg"
   ]
  },
  {
   "cell_type": "code",
   "execution_count": 2,
   "metadata": {},
   "outputs": [
    {
     "name": "stdout",
     "output_type": "stream",
     "text": [
      "1.15.0\n"
     ]
    }
   ],
   "source": [
    "print(tf.__version__)"
   ]
  },
  {
   "cell_type": "markdown",
   "metadata": {},
   "source": [
    "-----\n",
    "\n",
    "**In-class Exercise**\n",
    "\n",
    "1. Create a graph that produces a 3x4 matrix, where an op is added to the default graph and you:\n",
    "\n",
    "    - add a node A as a matrix of shape [3,2] with some constants \n",
    "    - add a node B as a matrix opened to take variables of type float32 (use placeholder)\n",
    "    - add an operation of their product to the graph producing an output matrix of shape [3,4]\n",
    "    - print the resulting matrix on the screen"
   ]
  },
  {
   "cell_type": "code",
   "execution_count": 3,
   "metadata": {},
   "outputs": [
    {
     "name": "stdout",
     "output_type": "stream",
     "text": [
      "[[18. 10. 13. 10.]\n",
      " [38. 26. 35. 22.]\n",
      " [58. 42. 57. 34.]]\n"
     ]
    }
   ],
   "source": [
    "#node A\n",
    "a = tf.constant(np.array([[1,2.],[3,4],[5,6.]], \n",
    "                         dtype=np.float32),\n",
    "               name = \"node_A\")\n",
    "\n",
    "#node B\n",
    "b = tf.placeholder(dtype = tf.float32, name = \"node_B\")\n",
    "product = tf.matmul(a,b)\n",
    "\n",
    "with tf.Session() as sess:\n",
    "    input_dict = {b: [[2.,6,9,2.],[8,2,2,4]]}\n",
    "    result = sess.run(product, feed_dict = input_dict)\n",
    "    print(result)\n",
    "\n"
   ]
  },
  {
   "cell_type": "markdown",
   "metadata": {},
   "source": [
    "-----------------\n",
    "\n",
    "**Eager Execution by Default in 2x** \n"
   ]
  },
  {
   "cell_type": "markdown",
   "metadata": {},
   "source": [
    "    a = tf.constant(np.array([1., 2., 3.]))\n",
    "    b = tf.constant(np.array([4., 5., 6.]))\n",
    "\n",
    "    c = tf.tensordot(a,b,1) #calculate the dot product\n",
    "\n",
    "    #eager execution\n",
    "    print(c.numpy())"
   ]
  },
  {
   "cell_type": "markdown",
   "metadata": {},
   "source": [
    "**TensorFlow 1.x** "
   ]
  },
  {
   "cell_type": "code",
   "execution_count": 4,
   "metadata": {},
   "outputs": [
    {
     "name": "stdout",
     "output_type": "stream",
     "text": [
      "32.0\n"
     ]
    }
   ],
   "source": [
    "a = tf.constant(np.array([1., 2., 3.]))\n",
    "b = tf.constant(np.array([4., 5., 6.]))\n",
    "\n",
    "c = tf.tensordot(a,b,1) #calculate the dot product\n",
    "\n",
    "sess = tf.Session()\n",
    "print(sess.run(c))\n"
   ]
  },
  {
   "cell_type": "markdown",
   "metadata": {},
   "source": [
    "**Placeholders comparison**"
   ]
  },
  {
   "cell_type": "code",
   "execution_count": 5,
   "metadata": {},
   "outputs": [
    {
     "name": "stdout",
     "output_type": "stream",
     "text": [
      "Enter a number here: 4\n",
      "4\n"
     ]
    }
   ],
   "source": [
    "f = tf.placeholder(dtype = tf.int32)\n",
    "\n",
    "placeholder = int(input('Enter a number here: '))\n",
    "#TF 1.X\n",
    "sess = tf.Session()\n",
    "outputs = sess.run(f, feed_dict={f: placeholder})\n",
    "print(outputs)\n",
    "\n",
    "sess.close()"
   ]
  },
  {
   "cell_type": "markdown",
   "metadata": {},
   "source": [
    "**Recap: Making a graph in 1.X**"
   ]
  },
  {
   "cell_type": "code",
   "execution_count": 6,
   "metadata": {},
   "outputs": [],
   "source": [
    "\n",
    "# Defining our input nodes\n",
    "a = tf.constant(5, name = \"input_a\")\n",
    "b = tf.constant(3, name = \"input_b\")\n",
    "\n",
    "#Defining the next two nodes in our graph\n",
    "c = tf.multiply(a,b, name =\"mul_c\")\n",
    "d = tf.add(a,b, name=\"add_d\")\n",
    "\n",
    "#This last line defines the final node in our graph:\n",
    "e = tf.add(c,d, name = \"add_e\")\n",
    "\n",
    "#To run we have to add the two extra lines or run them in the shell\n",
    "sess = tf.Session()\n",
    "sess.run(e)\n",
    "\n",
    "# To create the graph\n",
    "sess.graph.as_graph_def()\n",
    "file_writer = tf.summary.FileWriter('./graphs', sess.graph)\n",
    "\n",
    "#We clean up before we exit:\n",
    "file_writer.close()\n"
   ]
  },
  {
   "cell_type": "code",
   "execution_count": 7,
   "metadata": {},
   "outputs": [
    {
     "name": "stdout",
     "output_type": "stream",
     "text": [
      "events.out.tfevents.1582681850.Nhans-MacBook-Pro.local\n",
      "events.out.tfevents.1582839111.JIMMYSPC\n",
      "events.out.tfevents.1582840175.JIMMYSPC\n",
      "events.out.tfevents.1582844030.JIMMYSPC\n",
      "events.out.tfevents.1582844379.JIMMYSPC\n",
      "events.out.tfevents.1582844562.JIMMYSPC\n",
      "events.out.tfevents.1582847543.JIMMYSPC\n",
      "events.out.tfevents.1582847625.JIMMYSPC\n",
      "events.out.tfevents.1582848119.JIMMYSPC\n"
     ]
    }
   ],
   "source": [
    "!ls graphs"
   ]
  },
  {
   "cell_type": "code",
   "execution_count": 8,
   "metadata": {},
   "outputs": [
    {
     "data": {
      "text/plain": [
       "Reusing TensorBoard on port 6006 (pid 8584), started 0:46:48 ago. (Use '!kill 8584' to kill it.)"
      ]
     },
     "metadata": {},
     "output_type": "display_data"
    },
    {
     "data": {
      "text/html": [
       "\n",
       "      <iframe id=\"tensorboard-frame-4059fd8500a67492\" width=\"100%\" height=\"800\" frameborder=\"0\">\n",
       "      </iframe>\n",
       "      <script>\n",
       "        (function() {\n",
       "          const frame = document.getElementById(\"tensorboard-frame-4059fd8500a67492\");\n",
       "          const url = new URL(\"/\", window.location);\n",
       "          url.port = 6006;\n",
       "          frame.src = url;\n",
       "        })();\n",
       "      </script>\n",
       "  "
      ],
      "text/plain": [
       "<IPython.core.display.HTML object>"
      ]
     },
     "metadata": {},
     "output_type": "display_data"
    }
   ],
   "source": [
    "%tensorboard --logdir='./graphs/events.out.tfevents.1582844562.JIMMYSPC'/ --port=6006\n"
   ]
  },
  {
   "cell_type": "markdown",
   "metadata": {},
   "source": [
    "-----\n",
    "\n",
    "**Autograph**\n",
    "- is used to convert a function into TensorFlow function"
   ]
  },
  {
   "cell_type": "code",
   "execution_count": 9,
   "metadata": {},
   "outputs": [
    {
     "name": "stdout",
     "output_type": "stream",
     "text": [
      "21\n"
     ]
    }
   ],
   "source": [
    "#function to find the next number in fibonacci series\n",
    "\n",
    "def fib1(a):\n",
    "    x,y = 0, 1\n",
    "    for i in range(a-1):\n",
    "        x,y = y, x + y\n",
    "    return y\n",
    "\n",
    "tf_fib1 = autograph.to_graph(fib1) #using autograph we convert the function to a tensorflow function\n",
    "\n",
    "graph = tf.Graph() #create a graph \n",
    "with graph.as_default():\n",
    "    #within the graph we call the 'fib1' function so it runs in graph mode \n",
    "    answer = tf_fib1(tf.constant(8)) #only created the operations required to perform the computation and adds them to the graph\n",
    "\n",
    "with tf.Session(graph=graph) as sess: #start a session to evaluate the result in tensor and print\n",
    "    print(answer.eval())\n",
    "    \n"
   ]
  },
  {
   "cell_type": "markdown",
   "metadata": {},
   "source": [
    "-----\n",
    "**Initializing Variables**\n",
    "\n",
    "- in tensorflow before execution all global variables are required to be initialized\n",
    "- everything except of variables do not require intialization (constants and placeholders)\n",
    "- but every used variables (even if it is a constant) must be initialized\n",
    "\n",
    "        init = tf.global_variable_initializer()"
   ]
  },
  {
   "cell_type": "markdown",
   "metadata": {},
   "source": [
    "-------\n",
    "**Downloading datasets in tensorflow for machine learning**\n",
    "  \n",
    "        import tensorflow_datasets as tfds\n",
    "        tf_flowers = tfds.load(name=\"tf_flowers\", split =\"train\")"
   ]
  },
  {
   "cell_type": "markdown",
   "metadata": {},
   "source": [
    "-----\n",
    "**Namescopes**"
   ]
  },
  {
   "cell_type": "code",
   "execution_count": 10,
   "metadata": {},
   "outputs": [
    {
     "name": "stdout",
     "output_type": "stream",
     "text": [
      "63\n"
     ]
    }
   ],
   "source": [
    "with tf.name_scope(\"My_Graph\"):\n",
    "    with tf.name_scope(\"Scope_1\"):\n",
    "        a = tf.add(1,2, name =\"addition_1\")\n",
    "        b = tf.multiply(a, 3, name =\"multiplying_1\")\n",
    "    with tf.name_scope(\"Scope_2\"):\n",
    "        c = tf.add(4,5 ,name =\"addition_2\")\n",
    "        d = tf.multiply(c, 6, name =\"multiplying_1\")\n",
    "    with tf.name_scope(\"Scope_3\"):\n",
    "        e = tf.multiply(4,5)\n",
    "        f = tf.div(c,6, name=\"division\")\n",
    "\n",
    "g = tf.add(b,d)\n",
    "h = tf.multiply(g, f)\n",
    "\n",
    "#We have defined a computional graph now, we need to execute it\n",
    "with tf.Session() as sess:\n",
    "    sess = tf.Session()\n",
    "    print(sess.run(h))\n",
    "    writer = tf.summary.FileWriter('./name_scopes/name_scope_1', graph = tf.get_default_graph())\n",
    "    writer.close()"
   ]
  },
  {
   "cell_type": "code",
   "execution_count": 11,
   "metadata": {},
   "outputs": [
    {
     "name": "stdout",
     "output_type": "stream",
     "text": [
      "name_scope_1\n",
      "name_scope_2\n",
      "name_scope_3\n"
     ]
    }
   ],
   "source": [
    "!ls name_scopes"
   ]
  },
  {
   "cell_type": "code",
   "execution_count": 12,
   "metadata": {},
   "outputs": [
    {
     "data": {
      "text/plain": [
       "Reusing TensorBoard on port 8008 (pid 8100), started 0:52:00 ago. (Use '!kill 8100' to kill it.)"
      ]
     },
     "metadata": {},
     "output_type": "display_data"
    },
    {
     "data": {
      "text/html": [
       "\n",
       "      <iframe id=\"tensorboard-frame-f16f83b602e36d91\" width=\"100%\" height=\"800\" frameborder=\"0\">\n",
       "      </iframe>\n",
       "      <script>\n",
       "        (function() {\n",
       "          const frame = document.getElementById(\"tensorboard-frame-f16f83b602e36d91\");\n",
       "          const url = new URL(\"/\", window.location);\n",
       "          url.port = 8008;\n",
       "          frame.src = url;\n",
       "        })();\n",
       "      </script>\n",
       "  "
      ],
      "text/plain": [
       "<IPython.core.display.HTML object>"
      ]
     },
     "metadata": {},
     "output_type": "display_data"
    }
   ],
   "source": [
    "%tensorboard --logdir='./name_scopes/name_scope_1' --port=8008\n"
   ]
  },
  {
   "cell_type": "code",
   "execution_count": 13,
   "metadata": {},
   "outputs": [
    {
     "name": "stdout",
     "output_type": "stream",
     "text": [
      "63\n"
     ]
    }
   ],
   "source": [
    "with tf.name_scope('Scope_A'):\n",
    "    a = tf.add(1,2, name=\"A_add\")\n",
    "    b = tf.multiply(a,3, name=\"A_mul\")\n",
    "with tf.name_scope(\"Scope_B\"):\n",
    "    c = tf.add(4,5, name =\"B_add\")\n",
    "    d = tf.multiply(c,6, name =\"B_mul\")\n",
    "    \n",
    "e = tf.add(b,d, name=\"output\")\n",
    "\n",
    "\n",
    "sess = tf.Session()\n",
    "print(sess.run(h))\n",
    "writer = tf.summary.FileWriter('./name_scopes/name_scope_2', graph = tf.get_default_graph())\n",
    "writer.close()"
   ]
  },
  {
   "cell_type": "code",
   "execution_count": 14,
   "metadata": {},
   "outputs": [
    {
     "name": "stdout",
     "output_type": "stream",
     "text": [
      "name_scope_1\n",
      "name_scope_2\n",
      "name_scope_3\n"
     ]
    }
   ],
   "source": [
    "!ls ./name_scopes"
   ]
  },
  {
   "cell_type": "code",
   "execution_count": 15,
   "metadata": {},
   "outputs": [
    {
     "data": {
      "text/plain": [
       "Reusing TensorBoard on port 8009 (pid 10472), started 0:07:50 ago. (Use '!kill 10472' to kill it.)"
      ]
     },
     "metadata": {},
     "output_type": "display_data"
    },
    {
     "data": {
      "text/html": [
       "\n",
       "      <iframe id=\"tensorboard-frame-9196cf502e308a12\" width=\"100%\" height=\"800\" frameborder=\"0\">\n",
       "      </iframe>\n",
       "      <script>\n",
       "        (function() {\n",
       "          const frame = document.getElementById(\"tensorboard-frame-9196cf502e308a12\");\n",
       "          const url = new URL(\"/\", window.location);\n",
       "          url.port = 8009;\n",
       "          frame.src = url;\n",
       "        })();\n",
       "      </script>\n",
       "  "
      ],
      "text/plain": [
       "<IPython.core.display.HTML object>"
      ]
     },
     "metadata": {},
     "output_type": "display_data"
    }
   ],
   "source": [
    "%tensorboard --logdir='./name_scopes/name_scope_2' --port=8009"
   ]
  },
  {
   "cell_type": "markdown",
   "metadata": {},
   "source": [
    "**Nesting Namescopes within other name scopes**"
   ]
  },
  {
   "cell_type": "code",
   "execution_count": 19,
   "metadata": {},
   "outputs": [],
   "source": [
    "graph = tf.Graph()\n",
    "\n",
    "with graph.as_default():\n",
    "    in_1 = tf.constant(3, dtype = tf.float32, name =\"input_1\") #placeholder(tf.float32, shape =[], name=\"input_a\")\n",
    "    in_2 = tf.constant(2, dtype = tf.float32, name =\"input_2\") #placeholder(tf.float32, shape =[], name=\"input_b\")\n",
    "    const = tf.constant(3, dtype = tf.float32, name =\"static_value\")\n",
    "    \n",
    "    with tf.name_scope(\"Transformation\"):\n",
    "        with tf.name_scope(\"A\"):\n",
    "            A_mul = tf.multiply(in_1, const)\n",
    "            A_out = tf.subtract(A_mul, in_1)\n",
    "        \n",
    "        with tf.name_scope(\"B\"):\n",
    "            B_mul = tf.multiply(in_2, const)\n",
    "            B_out = tf.subtract(B_mul, in_2)\n",
    "        \n",
    "        with tf.name_scope(\"C\"):\n",
    "            C_div = tf.div(A_out, B_out)\n",
    "            C_out = tf.add(C_div, const)\n",
    "    \n",
    "        with tf.name_scope(\"D\"):\n",
    "            D_div = tf.div(B_out, A_out)\n",
    "            D_out = tf.add(D_div, const)\n",
    "    \n",
    "    out = tf.maximum(C_out, D_out)\n",
    "\n",
    "writer = tf.summary.FileWriter('./name_scopes/name_scope_3', graph =graph)\n",
    "writer.close()"
   ]
  },
  {
   "cell_type": "code",
   "execution_count": 20,
   "metadata": {},
   "outputs": [
    {
     "data": {
      "text/plain": [
       "Reusing TensorBoard on port 8012 (pid 10820), started 0:09:51 ago. (Use '!kill 10820' to kill it.)"
      ]
     },
     "metadata": {},
     "output_type": "display_data"
    },
    {
     "data": {
      "text/html": [
       "\n",
       "      <iframe id=\"tensorboard-frame-bd8bce59d0708325\" width=\"100%\" height=\"800\" frameborder=\"0\">\n",
       "      </iframe>\n",
       "      <script>\n",
       "        (function() {\n",
       "          const frame = document.getElementById(\"tensorboard-frame-bd8bce59d0708325\");\n",
       "          const url = new URL(\"/\", window.location);\n",
       "          url.port = 8012;\n",
       "          frame.src = url;\n",
       "        })();\n",
       "      </script>\n",
       "  "
      ],
      "text/plain": [
       "<IPython.core.display.HTML object>"
      ]
     },
     "metadata": {},
     "output_type": "display_data"
    }
   ],
   "source": [
    "%tensorboard --logdir='./name_scopes/name_scope_3' --port=8012"
   ]
  },
  {
   "cell_type": "code",
   "execution_count": null,
   "metadata": {},
   "outputs": [],
   "source": []
  }
 ],
 "metadata": {
  "kernelspec": {
   "display_name": "Python 3",
   "language": "python",
   "name": "python3"
  },
  "language_info": {
   "codemirror_mode": {
    "name": "ipython",
    "version": 3
   },
   "file_extension": ".py",
   "mimetype": "text/x-python",
   "name": "python",
   "nbconvert_exporter": "python",
   "pygments_lexer": "ipython3",
   "version": "3.7.6"
  }
 },
 "nbformat": 4,
 "nbformat_minor": 4
}
