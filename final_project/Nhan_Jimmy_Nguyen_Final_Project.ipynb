{
 "cells": [
  {
   "cell_type": "markdown",
   "metadata": {},
   "source": [
    "**Student Name: Nhan D. Nguyen (Jimmy)**\n",
    "\n",
    "**Student ID: 169825**\n",
    "\n",
    "**Final Project:**\n",
    "- Using linear regression to predict machine failure code from scratch, to pre-built libraries, and in TensorFlow for comparisons"
   ]
  },
  {
   "cell_type": "code",
   "execution_count": 1,
   "metadata": {},
   "outputs": [],
   "source": [
    "import tensorflow as tf\n",
    "from tensorflow.contrib import autograph #import autograph from contrib package to use graph mode\n",
    "%load_ext tensorboard\n",
    "import logging\n",
    "logging.getLogger('tensorflow').setLevel(logging.ERROR)\n",
    "\n",
    "import numpy as np\n",
    "import matplotlib.pyplot as plt\n",
    "%matplotlib inline\n",
    "import pandas as pd \n",
    "import seaborn as sns\n",
    "from scipy import stats \n",
    "from scipy import linalg\n",
    "\n",
    "from sklearn.model_selection import train_test_split \n",
    "from sklearn.linear_model import LinearRegression\n",
    "from sklearn import metrics"
   ]
  },
  {
   "cell_type": "code",
   "execution_count": 2,
   "metadata": {},
   "outputs": [
    {
     "name": "stdout",
     "output_type": "stream",
     "text": [
      "1.15.0\n"
     ]
    }
   ],
   "source": [
    "print(tf.__version__)"
   ]
  },
  {
   "cell_type": "markdown",
   "metadata": {},
   "source": [
    "-----\n",
    "\n",
    "**Training Dataset**"
   ]
  },
  {
   "cell_type": "code",
   "execution_count": 3,
   "metadata": {},
   "outputs": [
    {
     "data": {
      "text/html": [
       "<div>\n",
       "<style scoped>\n",
       "    .dataframe tbody tr th:only-of-type {\n",
       "        vertical-align: middle;\n",
       "    }\n",
       "\n",
       "    .dataframe tbody tr th {\n",
       "        vertical-align: top;\n",
       "    }\n",
       "\n",
       "    .dataframe thead th {\n",
       "        text-align: right;\n",
       "    }\n",
       "</style>\n",
       "<table border=\"1\" class=\"dataframe\">\n",
       "  <thead>\n",
       "    <tr style=\"text-align: right;\">\n",
       "      <th></th>\n",
       "      <th>Temperature</th>\n",
       "      <th>x-acc</th>\n",
       "      <th>y-acc</th>\n",
       "      <th>z-acc</th>\n",
       "      <th>Pressure</th>\n",
       "      <th>Load</th>\n",
       "      <th>Flow</th>\n",
       "      <th>Unnamed: 7</th>\n",
       "      <th>Unnamed: 8</th>\n",
       "      <th>Nitrogen</th>\n",
       "      <th>Unnamed: 10</th>\n",
       "      <th>Unnamed: 11</th>\n",
       "      <th>Frequency</th>\n",
       "      <th>Unnamed: 13</th>\n",
       "      <th>Unnamed: 14</th>\n",
       "      <th>Failure Alert</th>\n",
       "      <th>Diagnostic Code</th>\n",
       "    </tr>\n",
       "  </thead>\n",
       "  <tbody>\n",
       "    <tr>\n",
       "      <th>0</th>\n",
       "      <td>149</td>\n",
       "      <td>118</td>\n",
       "      <td>136</td>\n",
       "      <td>113</td>\n",
       "      <td>113</td>\n",
       "      <td>105</td>\n",
       "      <td>-1</td>\n",
       "      <td>-1</td>\n",
       "      <td>1</td>\n",
       "      <td>-1</td>\n",
       "      <td>-1</td>\n",
       "      <td>1</td>\n",
       "      <td>-1</td>\n",
       "      <td>-1</td>\n",
       "      <td>1</td>\n",
       "      <td>1</td>\n",
       "      <td>4</td>\n",
       "    </tr>\n",
       "    <tr>\n",
       "      <th>1</th>\n",
       "      <td>171</td>\n",
       "      <td>218</td>\n",
       "      <td>83</td>\n",
       "      <td>265</td>\n",
       "      <td>222</td>\n",
       "      <td>129</td>\n",
       "      <td>-1</td>\n",
       "      <td>1</td>\n",
       "      <td>-1</td>\n",
       "      <td>-1</td>\n",
       "      <td>1</td>\n",
       "      <td>-1</td>\n",
       "      <td>-1</td>\n",
       "      <td>1</td>\n",
       "      <td>-1</td>\n",
       "      <td>-1</td>\n",
       "      <td>0</td>\n",
       "    </tr>\n",
       "    <tr>\n",
       "      <th>2</th>\n",
       "      <td>295</td>\n",
       "      <td>267</td>\n",
       "      <td>177</td>\n",
       "      <td>160</td>\n",
       "      <td>317</td>\n",
       "      <td>216</td>\n",
       "      <td>-1</td>\n",
       "      <td>1</td>\n",
       "      <td>-1</td>\n",
       "      <td>1</td>\n",
       "      <td>-1</td>\n",
       "      <td>-1</td>\n",
       "      <td>-1</td>\n",
       "      <td>1</td>\n",
       "      <td>-1</td>\n",
       "      <td>-1</td>\n",
       "      <td>2</td>\n",
       "    </tr>\n",
       "    <tr>\n",
       "      <th>3</th>\n",
       "      <td>102</td>\n",
       "      <td>155</td>\n",
       "      <td>147</td>\n",
       "      <td>266</td>\n",
       "      <td>197</td>\n",
       "      <td>119</td>\n",
       "      <td>-1</td>\n",
       "      <td>1</td>\n",
       "      <td>-1</td>\n",
       "      <td>-1</td>\n",
       "      <td>1</td>\n",
       "      <td>-1</td>\n",
       "      <td>1</td>\n",
       "      <td>-1</td>\n",
       "      <td>-1</td>\n",
       "      <td>1</td>\n",
       "      <td>3</td>\n",
       "    </tr>\n",
       "    <tr>\n",
       "      <th>4</th>\n",
       "      <td>129</td>\n",
       "      <td>143</td>\n",
       "      <td>169</td>\n",
       "      <td>134</td>\n",
       "      <td>131</td>\n",
       "      <td>101</td>\n",
       "      <td>-1</td>\n",
       "      <td>-1</td>\n",
       "      <td>1</td>\n",
       "      <td>-1</td>\n",
       "      <td>-1</td>\n",
       "      <td>1</td>\n",
       "      <td>-1</td>\n",
       "      <td>-1</td>\n",
       "      <td>1</td>\n",
       "      <td>1</td>\n",
       "      <td>4</td>\n",
       "    </tr>\n",
       "  </tbody>\n",
       "</table>\n",
       "</div>"
      ],
      "text/plain": [
       "   Temperature  x-acc  y-acc  z-acc  Pressure  Load  Flow  Unnamed: 7  \\\n",
       "0          149    118    136    113       113   105    -1          -1   \n",
       "1          171    218     83    265       222   129    -1           1   \n",
       "2          295    267    177    160       317   216    -1           1   \n",
       "3          102    155    147    266       197   119    -1           1   \n",
       "4          129    143    169    134       131   101    -1          -1   \n",
       "\n",
       "   Unnamed: 8  Nitrogen  Unnamed: 10  Unnamed: 11  Frequency  Unnamed: 13  \\\n",
       "0           1        -1           -1            1         -1           -1   \n",
       "1          -1        -1            1           -1         -1            1   \n",
       "2          -1         1           -1           -1         -1            1   \n",
       "3          -1        -1            1           -1          1           -1   \n",
       "4           1        -1           -1            1         -1           -1   \n",
       "\n",
       "   Unnamed: 14  Failure Alert  Diagnostic Code  \n",
       "0            1              1                4  \n",
       "1           -1             -1                0  \n",
       "2           -1             -1                2  \n",
       "3           -1              1                3  \n",
       "4            1              1                4  "
      ]
     },
     "execution_count": 3,
     "metadata": {},
     "output_type": "execute_result"
    }
   ],
   "source": [
    "df = pd.read_csv('Machine_Failure_Training_Set.csv')\n",
    "df.head()"
   ]
  },
  {
   "cell_type": "code",
   "execution_count": 4,
   "metadata": {},
   "outputs": [
    {
     "data": {
      "text/html": [
       "<div>\n",
       "<style scoped>\n",
       "    .dataframe tbody tr th:only-of-type {\n",
       "        vertical-align: middle;\n",
       "    }\n",
       "\n",
       "    .dataframe tbody tr th {\n",
       "        vertical-align: top;\n",
       "    }\n",
       "\n",
       "    .dataframe thead th {\n",
       "        text-align: right;\n",
       "    }\n",
       "</style>\n",
       "<table border=\"1\" class=\"dataframe\">\n",
       "  <thead>\n",
       "    <tr style=\"text-align: right;\">\n",
       "      <th></th>\n",
       "      <th>Temperature</th>\n",
       "      <th>x-acc</th>\n",
       "      <th>y-acc</th>\n",
       "      <th>z-acc</th>\n",
       "      <th>Pressure</th>\n",
       "      <th>Load</th>\n",
       "      <th>Flow</th>\n",
       "      <th>Unnamed: 7</th>\n",
       "      <th>Unnamed: 8</th>\n",
       "      <th>Nitrogen</th>\n",
       "      <th>Unnamed: 10</th>\n",
       "      <th>Unnamed: 11</th>\n",
       "      <th>Frequency</th>\n",
       "      <th>Unnamed: 13</th>\n",
       "      <th>Unnamed: 14</th>\n",
       "      <th>Failure Alert</th>\n",
       "      <th>Diagnostic Code</th>\n",
       "    </tr>\n",
       "  </thead>\n",
       "  <tbody>\n",
       "    <tr>\n",
       "      <th>count</th>\n",
       "      <td>6600.000000</td>\n",
       "      <td>6600.000000</td>\n",
       "      <td>6600.000000</td>\n",
       "      <td>6600.000000</td>\n",
       "      <td>6600.000000</td>\n",
       "      <td>6600.000000</td>\n",
       "      <td>6600.000000</td>\n",
       "      <td>6600.000000</td>\n",
       "      <td>6600.000000</td>\n",
       "      <td>6600.000000</td>\n",
       "      <td>6600.000000</td>\n",
       "      <td>6600.000000</td>\n",
       "      <td>6600.000000</td>\n",
       "      <td>6600.000000</td>\n",
       "      <td>6600.000000</td>\n",
       "      <td>6600.000000</td>\n",
       "      <td>6600.000000</td>\n",
       "    </tr>\n",
       "    <tr>\n",
       "      <th>mean</th>\n",
       "      <td>183.905303</td>\n",
       "      <td>183.839091</td>\n",
       "      <td>183.207273</td>\n",
       "      <td>184.262424</td>\n",
       "      <td>183.675909</td>\n",
       "      <td>184.090000</td>\n",
       "      <td>-0.999091</td>\n",
       "      <td>0.671212</td>\n",
       "      <td>-0.672121</td>\n",
       "      <td>-0.373030</td>\n",
       "      <td>0.040606</td>\n",
       "      <td>-0.667576</td>\n",
       "      <td>0.022121</td>\n",
       "      <td>-0.356667</td>\n",
       "      <td>-0.665455</td>\n",
       "      <td>0.000000</td>\n",
       "      <td>2.500000</td>\n",
       "    </tr>\n",
       "    <tr>\n",
       "      <th>std</th>\n",
       "      <td>51.372999</td>\n",
       "      <td>48.836192</td>\n",
       "      <td>54.650993</td>\n",
       "      <td>49.778438</td>\n",
       "      <td>49.266894</td>\n",
       "      <td>54.026948</td>\n",
       "      <td>0.042634</td>\n",
       "      <td>0.741321</td>\n",
       "      <td>0.740497</td>\n",
       "      <td>0.927889</td>\n",
       "      <td>0.999251</td>\n",
       "      <td>0.744598</td>\n",
       "      <td>0.999831</td>\n",
       "      <td>0.934302</td>\n",
       "      <td>0.746495</td>\n",
       "      <td>1.000076</td>\n",
       "      <td>1.707955</td>\n",
       "    </tr>\n",
       "    <tr>\n",
       "      <th>min</th>\n",
       "      <td>20.000000</td>\n",
       "      <td>39.000000</td>\n",
       "      <td>4.000000</td>\n",
       "      <td>11.000000</td>\n",
       "      <td>1.000000</td>\n",
       "      <td>9.000000</td>\n",
       "      <td>-1.000000</td>\n",
       "      <td>-1.000000</td>\n",
       "      <td>-1.000000</td>\n",
       "      <td>-1.000000</td>\n",
       "      <td>-1.000000</td>\n",
       "      <td>-1.000000</td>\n",
       "      <td>-1.000000</td>\n",
       "      <td>-1.000000</td>\n",
       "      <td>-1.000000</td>\n",
       "      <td>-1.000000</td>\n",
       "      <td>0.000000</td>\n",
       "    </tr>\n",
       "    <tr>\n",
       "      <th>25%</th>\n",
       "      <td>147.000000</td>\n",
       "      <td>146.000000</td>\n",
       "      <td>143.000000</td>\n",
       "      <td>151.000000</td>\n",
       "      <td>151.000000</td>\n",
       "      <td>142.000000</td>\n",
       "      <td>-1.000000</td>\n",
       "      <td>1.000000</td>\n",
       "      <td>-1.000000</td>\n",
       "      <td>-1.000000</td>\n",
       "      <td>-1.000000</td>\n",
       "      <td>-1.000000</td>\n",
       "      <td>-1.000000</td>\n",
       "      <td>-1.000000</td>\n",
       "      <td>-1.000000</td>\n",
       "      <td>-1.000000</td>\n",
       "      <td>1.000000</td>\n",
       "    </tr>\n",
       "    <tr>\n",
       "      <th>50%</th>\n",
       "      <td>184.000000</td>\n",
       "      <td>185.000000</td>\n",
       "      <td>181.000000</td>\n",
       "      <td>184.000000</td>\n",
       "      <td>183.000000</td>\n",
       "      <td>185.000000</td>\n",
       "      <td>-1.000000</td>\n",
       "      <td>1.000000</td>\n",
       "      <td>-1.000000</td>\n",
       "      <td>-1.000000</td>\n",
       "      <td>1.000000</td>\n",
       "      <td>-1.000000</td>\n",
       "      <td>1.000000</td>\n",
       "      <td>-1.000000</td>\n",
       "      <td>-1.000000</td>\n",
       "      <td>0.000000</td>\n",
       "      <td>2.500000</td>\n",
       "    </tr>\n",
       "    <tr>\n",
       "      <th>75%</th>\n",
       "      <td>220.000000</td>\n",
       "      <td>219.000000</td>\n",
       "      <td>220.000000</td>\n",
       "      <td>217.000000</td>\n",
       "      <td>215.000000</td>\n",
       "      <td>224.000000</td>\n",
       "      <td>-1.000000</td>\n",
       "      <td>1.000000</td>\n",
       "      <td>-1.000000</td>\n",
       "      <td>1.000000</td>\n",
       "      <td>1.000000</td>\n",
       "      <td>-1.000000</td>\n",
       "      <td>1.000000</td>\n",
       "      <td>1.000000</td>\n",
       "      <td>-1.000000</td>\n",
       "      <td>1.000000</td>\n",
       "      <td>4.000000</td>\n",
       "    </tr>\n",
       "    <tr>\n",
       "      <th>max</th>\n",
       "      <td>372.000000</td>\n",
       "      <td>335.000000</td>\n",
       "      <td>395.000000</td>\n",
       "      <td>379.000000</td>\n",
       "      <td>366.000000</td>\n",
       "      <td>356.000000</td>\n",
       "      <td>1.000000</td>\n",
       "      <td>1.000000</td>\n",
       "      <td>1.000000</td>\n",
       "      <td>1.000000</td>\n",
       "      <td>1.000000</td>\n",
       "      <td>1.000000</td>\n",
       "      <td>1.000000</td>\n",
       "      <td>1.000000</td>\n",
       "      <td>1.000000</td>\n",
       "      <td>1.000000</td>\n",
       "      <td>5.000000</td>\n",
       "    </tr>\n",
       "  </tbody>\n",
       "</table>\n",
       "</div>"
      ],
      "text/plain": [
       "       Temperature        x-acc        y-acc        z-acc     Pressure  \\\n",
       "count  6600.000000  6600.000000  6600.000000  6600.000000  6600.000000   \n",
       "mean    183.905303   183.839091   183.207273   184.262424   183.675909   \n",
       "std      51.372999    48.836192    54.650993    49.778438    49.266894   \n",
       "min      20.000000    39.000000     4.000000    11.000000     1.000000   \n",
       "25%     147.000000   146.000000   143.000000   151.000000   151.000000   \n",
       "50%     184.000000   185.000000   181.000000   184.000000   183.000000   \n",
       "75%     220.000000   219.000000   220.000000   217.000000   215.000000   \n",
       "max     372.000000   335.000000   395.000000   379.000000   366.000000   \n",
       "\n",
       "              Load         Flow   Unnamed: 7   Unnamed: 8     Nitrogen  \\\n",
       "count  6600.000000  6600.000000  6600.000000  6600.000000  6600.000000   \n",
       "mean    184.090000    -0.999091     0.671212    -0.672121    -0.373030   \n",
       "std      54.026948     0.042634     0.741321     0.740497     0.927889   \n",
       "min       9.000000    -1.000000    -1.000000    -1.000000    -1.000000   \n",
       "25%     142.000000    -1.000000     1.000000    -1.000000    -1.000000   \n",
       "50%     185.000000    -1.000000     1.000000    -1.000000    -1.000000   \n",
       "75%     224.000000    -1.000000     1.000000    -1.000000     1.000000   \n",
       "max     356.000000     1.000000     1.000000     1.000000     1.000000   \n",
       "\n",
       "       Unnamed: 10  Unnamed: 11    Frequency  Unnamed: 13  Unnamed: 14  \\\n",
       "count  6600.000000  6600.000000  6600.000000  6600.000000  6600.000000   \n",
       "mean      0.040606    -0.667576     0.022121    -0.356667    -0.665455   \n",
       "std       0.999251     0.744598     0.999831     0.934302     0.746495   \n",
       "min      -1.000000    -1.000000    -1.000000    -1.000000    -1.000000   \n",
       "25%      -1.000000    -1.000000    -1.000000    -1.000000    -1.000000   \n",
       "50%       1.000000    -1.000000     1.000000    -1.000000    -1.000000   \n",
       "75%       1.000000    -1.000000     1.000000     1.000000    -1.000000   \n",
       "max       1.000000     1.000000     1.000000     1.000000     1.000000   \n",
       "\n",
       "       Failure Alert  Diagnostic Code  \n",
       "count    6600.000000      6600.000000  \n",
       "mean        0.000000         2.500000  \n",
       "std         1.000076         1.707955  \n",
       "min        -1.000000         0.000000  \n",
       "25%        -1.000000         1.000000  \n",
       "50%         0.000000         2.500000  \n",
       "75%         1.000000         4.000000  \n",
       "max         1.000000         5.000000  "
      ]
     },
     "execution_count": 4,
     "metadata": {},
     "output_type": "execute_result"
    }
   ],
   "source": [
    "df.describe()"
   ]
  },
  {
   "cell_type": "code",
   "execution_count": 5,
   "metadata": {},
   "outputs": [
    {
     "data": {
      "image/png": "[encoded data removed]",
      "text/plain": [
       "<Figure size 432x288 with 1 Axes>"
      ]
     },
     "metadata": {
      "needs_background": "light"
     },
     "output_type": "display_data"
    }
   ],
   "source": [
    "df.plot(x='Temperature', y='Pressure', style='o')  \n",
    "plt.title('Temperature vs Pressure')  \n",
    "plt.xlabel('Temperature')  \n",
    "plt.ylabel('Pressure')  \n",
    "plt.show()"
   ]
  },
  {
   "cell_type": "code",
   "execution_count": 6,
   "metadata": {},
   "outputs": [
    {
     "data": {
      "text/html": [
       "<div>\n",
       "<style scoped>\n",
       "    .dataframe tbody tr th:only-of-type {\n",
       "        vertical-align: middle;\n",
       "    }\n",
       "\n",
       "    .dataframe tbody tr th {\n",
       "        vertical-align: top;\n",
       "    }\n",
       "\n",
       "    .dataframe thead th {\n",
       "        text-align: right;\n",
       "    }\n",
       "</style>\n",
       "<table border=\"1\" class=\"dataframe\">\n",
       "  <thead>\n",
       "    <tr style=\"text-align: right;\">\n",
       "      <th></th>\n",
       "      <th>Temperature</th>\n",
       "      <th>Pressure</th>\n",
       "    </tr>\n",
       "  </thead>\n",
       "  <tbody>\n",
       "    <tr>\n",
       "      <th>0</th>\n",
       "      <td>149</td>\n",
       "      <td>113</td>\n",
       "    </tr>\n",
       "    <tr>\n",
       "      <th>1</th>\n",
       "      <td>171</td>\n",
       "      <td>222</td>\n",
       "    </tr>\n",
       "    <tr>\n",
       "      <th>2</th>\n",
       "      <td>295</td>\n",
       "      <td>317</td>\n",
       "    </tr>\n",
       "    <tr>\n",
       "      <th>3</th>\n",
       "      <td>102</td>\n",
       "      <td>197</td>\n",
       "    </tr>\n",
       "    <tr>\n",
       "      <th>4</th>\n",
       "      <td>129</td>\n",
       "      <td>131</td>\n",
       "    </tr>\n",
       "    <tr>\n",
       "      <th>...</th>\n",
       "      <td>...</td>\n",
       "      <td>...</td>\n",
       "    </tr>\n",
       "    <tr>\n",
       "      <th>6595</th>\n",
       "      <td>172</td>\n",
       "      <td>182</td>\n",
       "    </tr>\n",
       "    <tr>\n",
       "      <th>6596</th>\n",
       "      <td>220</td>\n",
       "      <td>178</td>\n",
       "    </tr>\n",
       "    <tr>\n",
       "      <th>6597</th>\n",
       "      <td>277</td>\n",
       "      <td>269</td>\n",
       "    </tr>\n",
       "    <tr>\n",
       "      <th>6598</th>\n",
       "      <td>184</td>\n",
       "      <td>192</td>\n",
       "    </tr>\n",
       "    <tr>\n",
       "      <th>6599</th>\n",
       "      <td>266</td>\n",
       "      <td>180</td>\n",
       "    </tr>\n",
       "  </tbody>\n",
       "</table>\n",
       "<p>6600 rows × 2 columns</p>\n",
       "</div>"
      ],
      "text/plain": [
       "      Temperature  Pressure\n",
       "0             149       113\n",
       "1             171       222\n",
       "2             295       317\n",
       "3             102       197\n",
       "4             129       131\n",
       "...           ...       ...\n",
       "6595          172       182\n",
       "6596          220       178\n",
       "6597          277       269\n",
       "6598          184       192\n",
       "6599          266       180\n",
       "\n",
       "[6600 rows x 2 columns]"
      ]
     },
     "execution_count": 6,
     "metadata": {},
     "output_type": "execute_result"
    }
   ],
   "source": [
    "df.loc[:,['Temperature','Pressure']]"
   ]
  },
  {
   "cell_type": "code",
   "execution_count": 7,
   "metadata": {},
   "outputs": [
    {
     "data": {
      "text/plain": [
       "<matplotlib.axes._subplots.AxesSubplot at 0x13a520310>"
      ]
     },
     "execution_count": 7,
     "metadata": {},
     "output_type": "execute_result"
    },
    {
     "data": {
      "image/png": "[encoded data removed]",
      "text/plain": [
       "<Figure size 1080x720 with 1 Axes>"
      ]
     },
     "metadata": {
      "needs_background": "light"
     },
     "output_type": "display_data"
    }
   ],
   "source": [
    "import seaborn as sns\n",
    "plt.figure(figsize=(15,10))\n",
    "plt.tight_layout()\n",
    "sns.distplot(df['Temperature'])"
   ]
  },
  {
   "cell_type": "markdown",
   "metadata": {},
   "source": [
    "### Linear Regression from Scratch:\n",
    "- Split up Training and Testing Sets"
   ]
  },
  {
   "cell_type": "code",
   "execution_count": 8,
   "metadata": {},
   "outputs": [
    {
     "data": {
      "text/plain": [
       "0       1\n",
       "1      -1\n",
       "2      -1\n",
       "3       1\n",
       "4       1\n",
       "       ..\n",
       "6595    1\n",
       "6596    1\n",
       "6597   -1\n",
       "6598   -1\n",
       "6599    1\n",
       "Name: Failure Alert, Length: 6600, dtype: int64"
      ]
     },
     "execution_count": 8,
     "metadata": {},
     "output_type": "execute_result"
    }
   ],
   "source": [
    "X = df[df.columns[:-2]]\n",
    "T = df[df.columns[-2]];T"
   ]
  },
  {
   "cell_type": "code",
   "execution_count": 9,
   "metadata": {},
   "outputs": [],
   "source": [
    "X_train, X_test, y_train, y_test = train_test_split(X, T, test_size=0.2, random_state=0)"
   ]
  },
  {
   "cell_type": "markdown",
   "metadata": {},
   "source": [
    "---------\n",
    "**Solving for the Weights**"
   ]
  },
  {
   "cell_type": "code",
   "execution_count": 10,
   "metadata": {},
   "outputs": [],
   "source": [
    "X_train = np.array(X_train)\n",
    "y_train= np.array(y_train)"
   ]
  },
  {
   "cell_type": "code",
   "execution_count": 11,
   "metadata": {},
   "outputs": [
    {
     "data": {
      "text/plain": [
       "array([[209, 131, 158, ...,   1,  -1,  -1],\n",
       "       [239, 211, 180, ...,  -1,   1,  -1],\n",
       "       [127, 231, 202, ...,   1,  -1,  -1],\n",
       "       ...,\n",
       "       [259, 251, 166, ...,  -1,   1,  -1],\n",
       "       [188, 207, 152, ...,   1,  -1,  -1],\n",
       "       [247, 173, 146, ...,   1,  -1,  -1]])"
      ]
     },
     "execution_count": 11,
     "metadata": {},
     "output_type": "execute_result"
    }
   ],
   "source": [
    "X_train"
   ]
  },
  {
   "cell_type": "code",
   "execution_count": 12,
   "metadata": {},
   "outputs": [
    {
     "data": {
      "text/plain": [
       "(5280,)"
      ]
     },
     "execution_count": 12,
     "metadata": {},
     "output_type": "execute_result"
    }
   ],
   "source": [
    "y_train.shape"
   ]
  },
  {
   "cell_type": "markdown",
   "metadata": {},
   "source": [
    "**Adding Xa (Adding Noise or B0)**"
   ]
  },
  {
   "cell_type": "code",
   "execution_count": 13,
   "metadata": {},
   "outputs": [
    {
     "name": "stdout",
     "output_type": "stream",
     "text": [
      "[[-1.35252222e-01  2.09000000e+02  1.31000000e+02 ...  1.00000000e+00\n",
      "  -1.00000000e+00 -1.00000000e+00]\n",
      " [ 5.09480062e-02  2.39000000e+02  2.11000000e+02 ... -1.00000000e+00\n",
      "   1.00000000e+00 -1.00000000e+00]\n",
      " [ 4.60469149e-01  1.27000000e+02  2.31000000e+02 ...  1.00000000e+00\n",
      "  -1.00000000e+00 -1.00000000e+00]\n",
      " ...\n",
      " [-1.05094813e+00  2.59000000e+02  2.51000000e+02 ... -1.00000000e+00\n",
      "   1.00000000e+00 -1.00000000e+00]\n",
      " [-8.15503003e-01  1.88000000e+02  2.07000000e+02 ...  1.00000000e+00\n",
      "  -1.00000000e+00 -1.00000000e+00]\n",
      " [-2.47560115e-01  2.47000000e+02  1.73000000e+02 ...  1.00000000e+00\n",
      "  -1.00000000e+00 -1.00000000e+00]]\n",
      "(5280, 16)\n"
     ]
    }
   ],
   "source": [
    "Xa = []\n",
    "for i in X_train:\n",
    "    random = np.random.normal()\n",
    "    Xa.append(np.append(arr = random, values = i))\n",
    "Xa = np.array(Xa);\n",
    "print(Xa); print(Xa.shape)\n"
   ]
  },
  {
   "cell_type": "markdown",
   "metadata": {},
   "source": [
    "**Finding the pseudoinverse of X**"
   ]
  },
  {
   "cell_type": "code",
   "execution_count": 14,
   "metadata": {},
   "outputs": [
    {
     "name": "stdout",
     "output_type": "stream",
     "text": [
      "[[-2.19709352e-05  2.47763329e-05  6.58342201e-05 ... -1.97224905e-04\n",
      "  -1.48050026e-04 -4.92335013e-05]\n",
      " [-8.47136046e-08  1.00342959e-06 -5.28006274e-06 ...  6.73582995e-06\n",
      "  -3.24170556e-06  1.75553329e-05]\n",
      " [-6.74476551e-06 -2.62733007e-07  6.64443170e-06 ...  5.93091005e-06\n",
      "   2.27236700e-06  1.74739013e-08]\n",
      " ...\n",
      " [-6.21220497e-05 -2.83041820e-04  2.42371473e-04 ...  1.20138511e-04\n",
      "   2.65040702e-04 -3.01856578e-04]\n",
      " [-1.57745376e-04 -1.15375495e-04  9.93873931e-05 ...  2.28294188e-04\n",
      "  -2.05621016e-03 -3.19685085e-04]\n",
      " [-2.78464451e-04 -3.68776539e-04  1.73129162e-04 ...  2.15392435e-04\n",
      "  -2.19034638e-04 -7.46178108e-04]]\n",
      "(5280, 16)\n"
     ]
    }
   ],
   "source": [
    "Xpinv = np.linalg.pinv(Xa);\n",
    "print(Xpinv); print(Xa.shape)"
   ]
  },
  {
   "cell_type": "markdown",
   "metadata": {},
   "source": [
    "**Weights = Xa pseudoinverse *  T**"
   ]
  },
  {
   "cell_type": "code",
   "execution_count": 15,
   "metadata": {},
   "outputs": [
    {
     "name": "stdout",
     "output_type": "stream",
     "text": [
      "[[ 2.19709352e-05 -2.47763329e-05  6.58342201e-05 ...  1.97224905e-04\n",
      "  -1.48050026e-04  4.92335013e-05]\n",
      " [ 8.47136046e-08 -1.00342959e-06 -5.28006274e-06 ... -6.73582995e-06\n",
      "  -3.24170556e-06 -1.75553329e-05]\n",
      " [ 6.74476551e-06  2.62733007e-07  6.64443170e-06 ... -5.93091005e-06\n",
      "   2.27236700e-06 -1.74739013e-08]\n",
      " ...\n",
      " [ 6.21220497e-05  2.83041820e-04  2.42371473e-04 ... -1.20138511e-04\n",
      "   2.65040702e-04  3.01856578e-04]\n",
      " [ 1.57745376e-04  1.15375495e-04  9.93873931e-05 ... -2.28294188e-04\n",
      "  -2.05621016e-03  3.19685085e-04]\n",
      " [ 2.78464451e-04  3.68776539e-04  1.73129162e-04 ... -2.15392435e-04\n",
      "  -2.19034638e-04  7.46178108e-04]]\n",
      "(16, 5280)\n"
     ]
    }
   ],
   "source": [
    "W = np.multiply(Xpinv, y_train)\n",
    "print(W); print(W.shape)"
   ]
  },
  {
   "cell_type": "markdown",
   "metadata": {},
   "source": [
    "**Fitting the model with our weights**"
   ]
  },
  {
   "cell_type": "code",
   "execution_count": 16,
   "metadata": {},
   "outputs": [],
   "source": [
    "labels = []\n",
    "for i in range(len(Xa)):\n",
    "    tot = np.sum(Xa[i,:] * W[:,i])\n",
    "    if tot > 0:\n",
    "        labels.append(1)\n",
    "    else:\n",
    "        labels.append(-1)"
   ]
  },
  {
   "cell_type": "code",
   "execution_count": 17,
   "metadata": {},
   "outputs": [
    {
     "data": {
      "text/html": [
       "<div>\n",
       "<style scoped>\n",
       "    .dataframe tbody tr th:only-of-type {\n",
       "        vertical-align: middle;\n",
       "    }\n",
       "\n",
       "    .dataframe tbody tr th {\n",
       "        vertical-align: top;\n",
       "    }\n",
       "\n",
       "    .dataframe thead th {\n",
       "        text-align: right;\n",
       "    }\n",
       "</style>\n",
       "<table border=\"1\" class=\"dataframe\">\n",
       "  <thead>\n",
       "    <tr style=\"text-align: right;\">\n",
       "      <th></th>\n",
       "      <th>actual</th>\n",
       "      <th>predicted</th>\n",
       "    </tr>\n",
       "  </thead>\n",
       "  <tbody>\n",
       "    <tr>\n",
       "      <th>0</th>\n",
       "      <td>-1</td>\n",
       "      <td>-1</td>\n",
       "    </tr>\n",
       "    <tr>\n",
       "      <th>1</th>\n",
       "      <td>-1</td>\n",
       "      <td>-1</td>\n",
       "    </tr>\n",
       "    <tr>\n",
       "      <th>2</th>\n",
       "      <td>1</td>\n",
       "      <td>1</td>\n",
       "    </tr>\n",
       "    <tr>\n",
       "      <th>3</th>\n",
       "      <td>1</td>\n",
       "      <td>1</td>\n",
       "    </tr>\n",
       "    <tr>\n",
       "      <th>4</th>\n",
       "      <td>1</td>\n",
       "      <td>1</td>\n",
       "    </tr>\n",
       "    <tr>\n",
       "      <th>...</th>\n",
       "      <td>...</td>\n",
       "      <td>...</td>\n",
       "    </tr>\n",
       "    <tr>\n",
       "      <th>5275</th>\n",
       "      <td>-1</td>\n",
       "      <td>-1</td>\n",
       "    </tr>\n",
       "    <tr>\n",
       "      <th>5276</th>\n",
       "      <td>1</td>\n",
       "      <td>1</td>\n",
       "    </tr>\n",
       "    <tr>\n",
       "      <th>5277</th>\n",
       "      <td>-1</td>\n",
       "      <td>-1</td>\n",
       "    </tr>\n",
       "    <tr>\n",
       "      <th>5278</th>\n",
       "      <td>1</td>\n",
       "      <td>1</td>\n",
       "    </tr>\n",
       "    <tr>\n",
       "      <th>5279</th>\n",
       "      <td>-1</td>\n",
       "      <td>-1</td>\n",
       "    </tr>\n",
       "  </tbody>\n",
       "</table>\n",
       "<p>5280 rows × 2 columns</p>\n",
       "</div>"
      ],
      "text/plain": [
       "      actual  predicted\n",
       "0         -1         -1\n",
       "1         -1         -1\n",
       "2          1          1\n",
       "3          1          1\n",
       "4          1          1\n",
       "...      ...        ...\n",
       "5275      -1         -1\n",
       "5276       1          1\n",
       "5277      -1         -1\n",
       "5278       1          1\n",
       "5279      -1         -1\n",
       "\n",
       "[5280 rows x 2 columns]"
      ]
     },
     "execution_count": 17,
     "metadata": {},
     "output_type": "execute_result"
    }
   ],
   "source": [
    "dict_labels = {'actual': y_train,'predicted': labels} \n",
    "pd.DataFrame.from_dict(dict_labels)"
   ]
  },
  {
   "cell_type": "markdown",
   "metadata": {},
   "source": [
    "**Testing Set**"
   ]
  },
  {
   "cell_type": "code",
   "execution_count": 18,
   "metadata": {},
   "outputs": [],
   "source": [
    "def test_linear_classifier(X_test, test_weights):\n",
    "    labels = []\n",
    "    for i in range(len(X_test)):\n",
    "        tot = np.sum(X_test[i,:] * test_weights[:,i])\n",
    "        if tot > 0:\n",
    "            labels.append(1.0)\n",
    "        else:\n",
    "            labels.append(-1.0)\n",
    "    return np.array(labels)\n"
   ]
  },
  {
   "cell_type": "code",
   "execution_count": 19,
   "metadata": {},
   "outputs": [],
   "source": [
    "test_weights = np.delete(W,0, axis=0)[:,:len(X_test)]"
   ]
  },
  {
   "cell_type": "code",
   "execution_count": 20,
   "metadata": {},
   "outputs": [
    {
     "data": {
      "text/plain": [
       "(15, 1320)"
      ]
     },
     "execution_count": 20,
     "metadata": {},
     "output_type": "execute_result"
    }
   ],
   "source": [
    "test_weights.shape"
   ]
  },
  {
   "cell_type": "code",
   "execution_count": 21,
   "metadata": {},
   "outputs": [
    {
     "data": {
      "text/plain": [
       "(1320, 15)"
      ]
     },
     "execution_count": 21,
     "metadata": {},
     "output_type": "execute_result"
    }
   ],
   "source": [
    "X_test.shape"
   ]
  },
  {
   "cell_type": "code",
   "execution_count": 22,
   "metadata": {},
   "outputs": [],
   "source": [
    "X_test = np.array(X_test)"
   ]
  },
  {
   "cell_type": "code",
   "execution_count": 23,
   "metadata": {},
   "outputs": [],
   "source": [
    "y_pred = test_linear_classifier(X_test, test_weights)"
   ]
  },
  {
   "cell_type": "code",
   "execution_count": 24,
   "metadata": {},
   "outputs": [
    {
     "data": {
      "text/plain": [
       "0      -1.0\n",
       "1      -1.0\n",
       "2       1.0\n",
       "3      -1.0\n",
       "4      -1.0\n",
       "       ... \n",
       "1315    1.0\n",
       "1316    1.0\n",
       "1317    1.0\n",
       "1318    1.0\n",
       "1319    1.0\n",
       "Length: 1320, dtype: float64"
      ]
     },
     "execution_count": 24,
     "metadata": {},
     "output_type": "execute_result"
    }
   ],
   "source": [
    "pd.Series(y_pred)"
   ]
  },
  {
   "cell_type": "code",
   "execution_count": 25,
   "metadata": {},
   "outputs": [
    {
     "name": "stdout",
     "output_type": "stream",
     "text": [
      "Mean Absolute Error: 0.8772727272727273\n",
      "Mean Squared Error: 1.7545454545454546\n",
      "Root Mean Squared Error: 1.3245925617130176\n"
     ]
    }
   ],
   "source": [
    "print('Mean Absolute Error:', metrics.mean_absolute_error(y_test, y_pred))  \n",
    "print('Mean Squared Error:', metrics.mean_squared_error(y_test,y_pred))  \n",
    "print('Root Mean Squared Error:', np.sqrt(metrics.mean_squared_error(y_test, y_pred)))"
   ]
  },
  {
   "cell_type": "code",
   "execution_count": 26,
   "metadata": {},
   "outputs": [
    {
     "name": "stdout",
     "output_type": "stream",
     "text": [
      "0.5613636363636364\n",
      "0.5708092485549133\n",
      "0.5509554140127388\n",
      "0.5834564254062038\n"
     ]
    }
   ],
   "source": [
    "from sklearn.metrics import confusion_matrix\n",
    "y_true = y_test\n",
    "CM = confusion_matrix(y_true, y_pred)\n",
    "\n",
    "TN = CM[0][0]\n",
    "FN = CM[1][0]\n",
    "TP = CM[1][1]\n",
    "FP = CM[0][1]\n",
    "\n",
    "accuracy = (TP + TN)/(TP + FP + FN + TN); print(accuracy);\n",
    "sensitivity = TP/ (TP + FN); print(sensitivity);\n",
    "specificity = TN / (FP + TN); print(specificity);\n",
    "ppv = TP/ (FP +TP); print(ppv)"
   ]
  },
  {
   "cell_type": "markdown",
   "metadata": {},
   "source": [
    "-----\n",
    "\n",
    "### **Using Sklearn with a Linear Regression Model to predict the labels**"
   ]
  },
  {
   "cell_type": "code",
   "execution_count": 27,
   "metadata": {},
   "outputs": [
    {
     "data": {
      "text/html": [
       "<div>\n",
       "<style scoped>\n",
       "    .dataframe tbody tr th:only-of-type {\n",
       "        vertical-align: middle;\n",
       "    }\n",
       "\n",
       "    .dataframe tbody tr th {\n",
       "        vertical-align: top;\n",
       "    }\n",
       "\n",
       "    .dataframe thead th {\n",
       "        text-align: right;\n",
       "    }\n",
       "</style>\n",
       "<table border=\"1\" class=\"dataframe\">\n",
       "  <thead>\n",
       "    <tr style=\"text-align: right;\">\n",
       "      <th></th>\n",
       "      <th>Temperature</th>\n",
       "      <th>x-acc</th>\n",
       "      <th>y-acc</th>\n",
       "      <th>z-acc</th>\n",
       "      <th>Pressure</th>\n",
       "      <th>Load</th>\n",
       "      <th>Flow</th>\n",
       "      <th>Unnamed: 7</th>\n",
       "      <th>Unnamed: 8</th>\n",
       "      <th>Nitrogen</th>\n",
       "      <th>Unnamed: 10</th>\n",
       "      <th>Unnamed: 11</th>\n",
       "      <th>Frequency</th>\n",
       "      <th>Unnamed: 13</th>\n",
       "      <th>Unnamed: 14</th>\n",
       "    </tr>\n",
       "  </thead>\n",
       "  <tbody>\n",
       "    <tr>\n",
       "      <th>0</th>\n",
       "      <td>149</td>\n",
       "      <td>118</td>\n",
       "      <td>136</td>\n",
       "      <td>113</td>\n",
       "      <td>113</td>\n",
       "      <td>105</td>\n",
       "      <td>-1</td>\n",
       "      <td>-1</td>\n",
       "      <td>1</td>\n",
       "      <td>-1</td>\n",
       "      <td>-1</td>\n",
       "      <td>1</td>\n",
       "      <td>-1</td>\n",
       "      <td>-1</td>\n",
       "      <td>1</td>\n",
       "    </tr>\n",
       "    <tr>\n",
       "      <th>1</th>\n",
       "      <td>171</td>\n",
       "      <td>218</td>\n",
       "      <td>83</td>\n",
       "      <td>265</td>\n",
       "      <td>222</td>\n",
       "      <td>129</td>\n",
       "      <td>-1</td>\n",
       "      <td>1</td>\n",
       "      <td>-1</td>\n",
       "      <td>-1</td>\n",
       "      <td>1</td>\n",
       "      <td>-1</td>\n",
       "      <td>-1</td>\n",
       "      <td>1</td>\n",
       "      <td>-1</td>\n",
       "    </tr>\n",
       "    <tr>\n",
       "      <th>2</th>\n",
       "      <td>295</td>\n",
       "      <td>267</td>\n",
       "      <td>177</td>\n",
       "      <td>160</td>\n",
       "      <td>317</td>\n",
       "      <td>216</td>\n",
       "      <td>-1</td>\n",
       "      <td>1</td>\n",
       "      <td>-1</td>\n",
       "      <td>1</td>\n",
       "      <td>-1</td>\n",
       "      <td>-1</td>\n",
       "      <td>-1</td>\n",
       "      <td>1</td>\n",
       "      <td>-1</td>\n",
       "    </tr>\n",
       "    <tr>\n",
       "      <th>3</th>\n",
       "      <td>102</td>\n",
       "      <td>155</td>\n",
       "      <td>147</td>\n",
       "      <td>266</td>\n",
       "      <td>197</td>\n",
       "      <td>119</td>\n",
       "      <td>-1</td>\n",
       "      <td>1</td>\n",
       "      <td>-1</td>\n",
       "      <td>-1</td>\n",
       "      <td>1</td>\n",
       "      <td>-1</td>\n",
       "      <td>1</td>\n",
       "      <td>-1</td>\n",
       "      <td>-1</td>\n",
       "    </tr>\n",
       "    <tr>\n",
       "      <th>4</th>\n",
       "      <td>129</td>\n",
       "      <td>143</td>\n",
       "      <td>169</td>\n",
       "      <td>134</td>\n",
       "      <td>131</td>\n",
       "      <td>101</td>\n",
       "      <td>-1</td>\n",
       "      <td>-1</td>\n",
       "      <td>1</td>\n",
       "      <td>-1</td>\n",
       "      <td>-1</td>\n",
       "      <td>1</td>\n",
       "      <td>-1</td>\n",
       "      <td>-1</td>\n",
       "      <td>1</td>\n",
       "    </tr>\n",
       "  </tbody>\n",
       "</table>\n",
       "</div>"
      ],
      "text/plain": [
       "   Temperature  x-acc  y-acc  z-acc  Pressure  Load  Flow  Unnamed: 7  \\\n",
       "0          149    118    136    113       113   105    -1          -1   \n",
       "1          171    218     83    265       222   129    -1           1   \n",
       "2          295    267    177    160       317   216    -1           1   \n",
       "3          102    155    147    266       197   119    -1           1   \n",
       "4          129    143    169    134       131   101    -1          -1   \n",
       "\n",
       "   Unnamed: 8  Nitrogen  Unnamed: 10  Unnamed: 11  Frequency  Unnamed: 13  \\\n",
       "0           1        -1           -1            1         -1           -1   \n",
       "1          -1        -1            1           -1         -1            1   \n",
       "2          -1         1           -1           -1         -1            1   \n",
       "3          -1        -1            1           -1          1           -1   \n",
       "4           1        -1           -1            1         -1           -1   \n",
       "\n",
       "   Unnamed: 14  \n",
       "0            1  \n",
       "1           -1  \n",
       "2           -1  \n",
       "3           -1  \n",
       "4            1  "
      ]
     },
     "execution_count": 27,
     "metadata": {},
     "output_type": "execute_result"
    }
   ],
   "source": [
    "X2 = df[df.columns[:-2]]\n",
    "X2.head()"
   ]
  },
  {
   "cell_type": "code",
   "execution_count": 28,
   "metadata": {},
   "outputs": [],
   "source": [
    "X_train, X_test, y_train, y_test = train_test_split(X2, T, test_size=0.2, random_state=0)"
   ]
  },
  {
   "cell_type": "code",
   "execution_count": 29,
   "metadata": {},
   "outputs": [
    {
     "data": {
      "text/plain": [
       "LinearRegression(copy_X=True, fit_intercept=True, n_jobs=None, normalize=False)"
      ]
     },
     "execution_count": 29,
     "metadata": {},
     "output_type": "execute_result"
    }
   ],
   "source": [
    "regressor = LinearRegression()  \n",
    "regressor.fit(X_train, y_train) #training the algorithm"
   ]
  },
  {
   "cell_type": "code",
   "execution_count": 30,
   "metadata": {},
   "outputs": [
    {
     "name": "stdout",
     "output_type": "stream",
     "text": [
      "-0.5664435600562548\n",
      "[ 0.00053733  0.0010346   0.00053974  0.00052247  0.00043639  0.00088264\n",
      "  0.0124526  -0.037547    0.0250944  -0.22797275  0.14843886  0.07953389\n",
      " -0.0429585  -0.38665558  0.42961408]\n"
     ]
    }
   ],
   "source": [
    "#To retrieve the intercept:\n",
    "print(regressor.intercept_)#For retrieving the slope:\n",
    "print(regressor.coef_)"
   ]
  },
  {
   "cell_type": "code",
   "execution_count": 31,
   "metadata": {},
   "outputs": [
    {
     "data": {
      "text/html": [
       "<div>\n",
       "<style scoped>\n",
       "    .dataframe tbody tr th:only-of-type {\n",
       "        vertical-align: middle;\n",
       "    }\n",
       "\n",
       "    .dataframe tbody tr th {\n",
       "        vertical-align: top;\n",
       "    }\n",
       "\n",
       "    .dataframe thead th {\n",
       "        text-align: right;\n",
       "    }\n",
       "</style>\n",
       "<table border=\"1\" class=\"dataframe\">\n",
       "  <thead>\n",
       "    <tr style=\"text-align: right;\">\n",
       "      <th></th>\n",
       "      <th>Coefficient</th>\n",
       "    </tr>\n",
       "  </thead>\n",
       "  <tbody>\n",
       "    <tr>\n",
       "      <th>Temperature</th>\n",
       "      <td>0.000537</td>\n",
       "    </tr>\n",
       "    <tr>\n",
       "      <th>x-acc</th>\n",
       "      <td>0.001035</td>\n",
       "    </tr>\n",
       "    <tr>\n",
       "      <th>y-acc</th>\n",
       "      <td>0.000540</td>\n",
       "    </tr>\n",
       "    <tr>\n",
       "      <th>z-acc</th>\n",
       "      <td>0.000522</td>\n",
       "    </tr>\n",
       "    <tr>\n",
       "      <th>Pressure</th>\n",
       "      <td>0.000436</td>\n",
       "    </tr>\n",
       "    <tr>\n",
       "      <th>Load</th>\n",
       "      <td>0.000883</td>\n",
       "    </tr>\n",
       "    <tr>\n",
       "      <th>Flow</th>\n",
       "      <td>0.012453</td>\n",
       "    </tr>\n",
       "    <tr>\n",
       "      <th>Unnamed: 7</th>\n",
       "      <td>-0.037547</td>\n",
       "    </tr>\n",
       "    <tr>\n",
       "      <th>Unnamed: 8</th>\n",
       "      <td>0.025094</td>\n",
       "    </tr>\n",
       "    <tr>\n",
       "      <th>Nitrogen</th>\n",
       "      <td>-0.227973</td>\n",
       "    </tr>\n",
       "    <tr>\n",
       "      <th>Unnamed: 10</th>\n",
       "      <td>0.148439</td>\n",
       "    </tr>\n",
       "    <tr>\n",
       "      <th>Unnamed: 11</th>\n",
       "      <td>0.079534</td>\n",
       "    </tr>\n",
       "    <tr>\n",
       "      <th>Frequency</th>\n",
       "      <td>-0.042959</td>\n",
       "    </tr>\n",
       "    <tr>\n",
       "      <th>Unnamed: 13</th>\n",
       "      <td>-0.386656</td>\n",
       "    </tr>\n",
       "    <tr>\n",
       "      <th>Unnamed: 14</th>\n",
       "      <td>0.429614</td>\n",
       "    </tr>\n",
       "  </tbody>\n",
       "</table>\n",
       "</div>"
      ],
      "text/plain": [
       "             Coefficient\n",
       "Temperature     0.000537\n",
       "x-acc           0.001035\n",
       "y-acc           0.000540\n",
       "z-acc           0.000522\n",
       "Pressure        0.000436\n",
       "Load            0.000883\n",
       "Flow            0.012453\n",
       "Unnamed: 7     -0.037547\n",
       "Unnamed: 8      0.025094\n",
       "Nitrogen       -0.227973\n",
       "Unnamed: 10     0.148439\n",
       "Unnamed: 11     0.079534\n",
       "Frequency      -0.042959\n",
       "Unnamed: 13    -0.386656\n",
       "Unnamed: 14     0.429614"
      ]
     },
     "execution_count": 31,
     "metadata": {},
     "output_type": "execute_result"
    }
   ],
   "source": [
    "coeff_df = pd.DataFrame(regressor.coef_, X2.columns, columns=['Coefficient'])  \n",
    "coeff_df"
   ]
  },
  {
   "cell_type": "code",
   "execution_count": 32,
   "metadata": {},
   "outputs": [],
   "source": [
    "y_pred = regressor.predict(X_test)\n"
   ]
  },
  {
   "cell_type": "code",
   "execution_count": 33,
   "metadata": {},
   "outputs": [
    {
     "data": {
      "text/html": [
       "<div>\n",
       "<style scoped>\n",
       "    .dataframe tbody tr th:only-of-type {\n",
       "        vertical-align: middle;\n",
       "    }\n",
       "\n",
       "    .dataframe tbody tr th {\n",
       "        vertical-align: top;\n",
       "    }\n",
       "\n",
       "    .dataframe thead th {\n",
       "        text-align: right;\n",
       "    }\n",
       "</style>\n",
       "<table border=\"1\" class=\"dataframe\">\n",
       "  <thead>\n",
       "    <tr style=\"text-align: right;\">\n",
       "      <th></th>\n",
       "      <th>Actual</th>\n",
       "      <th>Predicted</th>\n",
       "    </tr>\n",
       "  </thead>\n",
       "  <tbody>\n",
       "    <tr>\n",
       "      <th>4676</th>\n",
       "      <td>1</td>\n",
       "      <td>1</td>\n",
       "    </tr>\n",
       "    <tr>\n",
       "      <th>578</th>\n",
       "      <td>-1</td>\n",
       "      <td>-1</td>\n",
       "    </tr>\n",
       "    <tr>\n",
       "      <th>1362</th>\n",
       "      <td>-1</td>\n",
       "      <td>1</td>\n",
       "    </tr>\n",
       "    <tr>\n",
       "      <th>5628</th>\n",
       "      <td>-1</td>\n",
       "      <td>1</td>\n",
       "    </tr>\n",
       "    <tr>\n",
       "      <th>4045</th>\n",
       "      <td>1</td>\n",
       "      <td>1</td>\n",
       "    </tr>\n",
       "    <tr>\n",
       "      <th>...</th>\n",
       "      <td>...</td>\n",
       "      <td>...</td>\n",
       "    </tr>\n",
       "    <tr>\n",
       "      <th>2843</th>\n",
       "      <td>1</td>\n",
       "      <td>1</td>\n",
       "    </tr>\n",
       "    <tr>\n",
       "      <th>5220</th>\n",
       "      <td>1</td>\n",
       "      <td>1</td>\n",
       "    </tr>\n",
       "    <tr>\n",
       "      <th>5002</th>\n",
       "      <td>1</td>\n",
       "      <td>1</td>\n",
       "    </tr>\n",
       "    <tr>\n",
       "      <th>5222</th>\n",
       "      <td>-1</td>\n",
       "      <td>-1</td>\n",
       "    </tr>\n",
       "    <tr>\n",
       "      <th>3055</th>\n",
       "      <td>1</td>\n",
       "      <td>1</td>\n",
       "    </tr>\n",
       "  </tbody>\n",
       "</table>\n",
       "<p>1320 rows × 2 columns</p>\n",
       "</div>"
      ],
      "text/plain": [
       "      Actual  Predicted\n",
       "4676       1          1\n",
       "578       -1         -1\n",
       "1362      -1          1\n",
       "5628      -1          1\n",
       "4045       1          1\n",
       "...      ...        ...\n",
       "2843       1          1\n",
       "5220       1          1\n",
       "5002       1          1\n",
       "5222      -1         -1\n",
       "3055       1          1\n",
       "\n",
       "[1320 rows x 2 columns]"
      ]
     },
     "execution_count": 33,
     "metadata": {},
     "output_type": "execute_result"
    }
   ],
   "source": [
    "df2 = pd.DataFrame({'Actual': y_test, 'Predicted': y_pred.flatten()})\n",
    "\n",
    "def labels(x):\n",
    "    if x > 0:\n",
    "        return 1\n",
    "    else:\n",
    "        return -1\n",
    "\n",
    "df2['Predicted'] = df2['Predicted'].apply(labels)\n",
    "df2"
   ]
  },
  {
   "cell_type": "code",
   "execution_count": 34,
   "metadata": {},
   "outputs": [
    {
     "name": "stdout",
     "output_type": "stream",
     "text": [
      "Mean Absolute Error: 0.5276776232339981\n",
      "Mean Squared Error: 0.4880349931935686\n",
      "Root Mean Squared Error: 0.6985950137193713\n"
     ]
    }
   ],
   "source": [
    "print('Mean Absolute Error:', metrics.mean_absolute_error(y_test, y_pred))  \n",
    "print('Mean Squared Error:', metrics.mean_squared_error(y_test, y_pred))  \n",
    "print('Root Mean Squared Error:', np.sqrt(metrics.mean_squared_error(y_test, y_pred)))"
   ]
  },
  {
   "cell_type": "code",
   "execution_count": 35,
   "metadata": {},
   "outputs": [],
   "source": [
    "y2_actual = np.array(df2['Actual'])\n",
    "y2_test = np.array(df2['Predicted'])"
   ]
  },
  {
   "cell_type": "code",
   "execution_count": 36,
   "metadata": {},
   "outputs": [
    {
     "name": "stdout",
     "output_type": "stream",
     "text": [
      "0.818939393939394\n",
      "0.9869942196531792\n",
      "0.6337579617834395\n",
      "0.7480832420591457\n"
     ]
    }
   ],
   "source": [
    "from sklearn.metrics import confusion_matrix\n",
    "y_test\n",
    "CM = confusion_matrix(y2_actual, y2_test)\n",
    "\n",
    "TN = CM[0][0]\n",
    "FN = CM[1][0]\n",
    "TP = CM[1][1]\n",
    "FP = CM[0][1]\n",
    "\n",
    "accuracy = (TP + TN)/(TP + FP + FN + TN); print(accuracy);\n",
    "sensitivity = TP/ (TP + FN); print(sensitivity);\n",
    "specificity = TN / (FP + TN); print(specificity);\n",
    "ppv = TP/ (FP +TP); print(ppv)"
   ]
  },
  {
   "cell_type": "markdown",
   "metadata": {},
   "source": [
    "----\n",
    "\n",
    "### Using TensorFlow to predict Linear Regression**"
   ]
  },
  {
   "cell_type": "code",
   "execution_count": 37,
   "metadata": {},
   "outputs": [
    {
     "data": {
      "text/html": [
       "<div>\n",
       "<style scoped>\n",
       "    .dataframe tbody tr th:only-of-type {\n",
       "        vertical-align: middle;\n",
       "    }\n",
       "\n",
       "    .dataframe tbody tr th {\n",
       "        vertical-align: top;\n",
       "    }\n",
       "\n",
       "    .dataframe thead th {\n",
       "        text-align: right;\n",
       "    }\n",
       "</style>\n",
       "<table border=\"1\" class=\"dataframe\">\n",
       "  <thead>\n",
       "    <tr style=\"text-align: right;\">\n",
       "      <th></th>\n",
       "      <th>Temperature</th>\n",
       "      <th>x-acc</th>\n",
       "      <th>y-acc</th>\n",
       "      <th>z-acc</th>\n",
       "      <th>Pressure</th>\n",
       "      <th>Load</th>\n",
       "      <th>Flow</th>\n",
       "      <th>Unnamed: 7</th>\n",
       "      <th>Unnamed: 8</th>\n",
       "      <th>Nitrogen</th>\n",
       "      <th>Unnamed: 10</th>\n",
       "      <th>Unnamed: 11</th>\n",
       "      <th>Frequency</th>\n",
       "      <th>Unnamed: 13</th>\n",
       "      <th>Unnamed: 14</th>\n",
       "      <th>Failure Alert</th>\n",
       "      <th>Diagnostic Code</th>\n",
       "    </tr>\n",
       "  </thead>\n",
       "  <tbody>\n",
       "    <tr>\n",
       "      <th>0</th>\n",
       "      <td>149</td>\n",
       "      <td>118</td>\n",
       "      <td>136</td>\n",
       "      <td>113</td>\n",
       "      <td>113</td>\n",
       "      <td>105</td>\n",
       "      <td>-1</td>\n",
       "      <td>-1</td>\n",
       "      <td>1</td>\n",
       "      <td>-1</td>\n",
       "      <td>-1</td>\n",
       "      <td>1</td>\n",
       "      <td>-1</td>\n",
       "      <td>-1</td>\n",
       "      <td>1</td>\n",
       "      <td>1</td>\n",
       "      <td>4</td>\n",
       "    </tr>\n",
       "    <tr>\n",
       "      <th>1</th>\n",
       "      <td>171</td>\n",
       "      <td>218</td>\n",
       "      <td>83</td>\n",
       "      <td>265</td>\n",
       "      <td>222</td>\n",
       "      <td>129</td>\n",
       "      <td>-1</td>\n",
       "      <td>1</td>\n",
       "      <td>-1</td>\n",
       "      <td>-1</td>\n",
       "      <td>1</td>\n",
       "      <td>-1</td>\n",
       "      <td>-1</td>\n",
       "      <td>1</td>\n",
       "      <td>-1</td>\n",
       "      <td>-1</td>\n",
       "      <td>0</td>\n",
       "    </tr>\n",
       "    <tr>\n",
       "      <th>2</th>\n",
       "      <td>295</td>\n",
       "      <td>267</td>\n",
       "      <td>177</td>\n",
       "      <td>160</td>\n",
       "      <td>317</td>\n",
       "      <td>216</td>\n",
       "      <td>-1</td>\n",
       "      <td>1</td>\n",
       "      <td>-1</td>\n",
       "      <td>1</td>\n",
       "      <td>-1</td>\n",
       "      <td>-1</td>\n",
       "      <td>-1</td>\n",
       "      <td>1</td>\n",
       "      <td>-1</td>\n",
       "      <td>-1</td>\n",
       "      <td>2</td>\n",
       "    </tr>\n",
       "    <tr>\n",
       "      <th>3</th>\n",
       "      <td>102</td>\n",
       "      <td>155</td>\n",
       "      <td>147</td>\n",
       "      <td>266</td>\n",
       "      <td>197</td>\n",
       "      <td>119</td>\n",
       "      <td>-1</td>\n",
       "      <td>1</td>\n",
       "      <td>-1</td>\n",
       "      <td>-1</td>\n",
       "      <td>1</td>\n",
       "      <td>-1</td>\n",
       "      <td>1</td>\n",
       "      <td>-1</td>\n",
       "      <td>-1</td>\n",
       "      <td>1</td>\n",
       "      <td>3</td>\n",
       "    </tr>\n",
       "    <tr>\n",
       "      <th>4</th>\n",
       "      <td>129</td>\n",
       "      <td>143</td>\n",
       "      <td>169</td>\n",
       "      <td>134</td>\n",
       "      <td>131</td>\n",
       "      <td>101</td>\n",
       "      <td>-1</td>\n",
       "      <td>-1</td>\n",
       "      <td>1</td>\n",
       "      <td>-1</td>\n",
       "      <td>-1</td>\n",
       "      <td>1</td>\n",
       "      <td>-1</td>\n",
       "      <td>-1</td>\n",
       "      <td>1</td>\n",
       "      <td>1</td>\n",
       "      <td>4</td>\n",
       "    </tr>\n",
       "  </tbody>\n",
       "</table>\n",
       "</div>"
      ],
      "text/plain": [
       "   Temperature  x-acc  y-acc  z-acc  Pressure  Load  Flow  Unnamed: 7  \\\n",
       "0          149    118    136    113       113   105    -1          -1   \n",
       "1          171    218     83    265       222   129    -1           1   \n",
       "2          295    267    177    160       317   216    -1           1   \n",
       "3          102    155    147    266       197   119    -1           1   \n",
       "4          129    143    169    134       131   101    -1          -1   \n",
       "\n",
       "   Unnamed: 8  Nitrogen  Unnamed: 10  Unnamed: 11  Frequency  Unnamed: 13  \\\n",
       "0           1        -1           -1            1         -1           -1   \n",
       "1          -1        -1            1           -1         -1            1   \n",
       "2          -1         1           -1           -1         -1            1   \n",
       "3          -1        -1            1           -1          1           -1   \n",
       "4           1        -1           -1            1         -1           -1   \n",
       "\n",
       "   Unnamed: 14  Failure Alert  Diagnostic Code  \n",
       "0            1              1                4  \n",
       "1           -1             -1                0  \n",
       "2           -1             -1                2  \n",
       "3           -1              1                3  \n",
       "4            1              1                4  "
      ]
     },
     "execution_count": 37,
     "metadata": {},
     "output_type": "execute_result"
    }
   ],
   "source": [
    "df = pd.read_csv('Machine_Failure_Training_Set.csv');\n",
    "\n",
    "# Separate the 'predictors' (aka 'features') from the dependent variable (aka 'label') that we will learn how to predict\n",
    "machine_data = np.array(df)[:,:15]\n",
    "machine_target = np.array(df)[:,15]; df.head()\n"
   ]
  },
  {
   "cell_type": "code",
   "execution_count": 38,
   "metadata": {},
   "outputs": [
    {
     "data": {
      "text/plain": [
       "array([[149, 118, 136, ...,  -1,  -1,   1],\n",
       "       [171, 218,  83, ...,  -1,   1,  -1],\n",
       "       [295, 267, 177, ...,  -1,   1,  -1],\n",
       "       ...,\n",
       "       [277, 238, 207, ...,  -1,   1,  -1],\n",
       "       [184, 199, 200, ...,  -1,   1,  -1],\n",
       "       [266, 231, 282, ...,   1,  -1,  -1]])"
      ]
     },
     "execution_count": 38,
     "metadata": {},
     "output_type": "execute_result"
    }
   ],
   "source": [
    "machine_data"
   ]
  },
  {
   "cell_type": "code",
   "execution_count": 39,
   "metadata": {},
   "outputs": [
    {
     "data": {
      "text/plain": [
       "array([ 1, -1, -1, ..., -1, -1,  1])"
      ]
     },
     "execution_count": 39,
     "metadata": {},
     "output_type": "execute_result"
    }
   ],
   "source": [
    "machine_target"
   ]
  },
  {
   "cell_type": "code",
   "execution_count": 40,
   "metadata": {},
   "outputs": [
    {
     "name": "stdout",
     "output_type": "stream",
     "text": [
      "[[  1. 149. 118. ...  -1.  -1.   1.]\n",
      " [  1. 171. 218. ...  -1.   1.  -1.]\n",
      " [  1. 295. 267. ...  -1.   1.  -1.]\n",
      " ...\n",
      " [  1. 277. 238. ...  -1.   1.  -1.]\n",
      " [  1. 184. 199. ...  -1.   1.  -1.]\n",
      " [  1. 266. 231. ...   1.  -1.  -1.]]\n"
     ]
    }
   ],
   "source": [
    "m, n = machine_data.shape\n",
    "machine_data_plus_bias = np.c_[np.ones((m, 1)), machine_data];\n",
    "print(machine_data_plus_bias)"
   ]
  },
  {
   "cell_type": "code",
   "execution_count": 41,
   "metadata": {},
   "outputs": [],
   "source": [
    "import tensorflow as tf\n",
    "\n",
    "# Make the compute graph\n",
    "X = tf.constant(machine_data_plus_bias, dtype=tf.float64, name=\"X\")\n",
    "XT = tf.transpose(X)\n",
    "y = tf.constant(machine_target.reshape(-1, 1), dtype=tf.float64, name=\"y\")\n",
    "\n",
    "theta = tf.matmul(tf.matmul(tf.matrix_inverse(tf.matmul(XT, X)), XT), y)\n",
    "\n"
   ]
  },
  {
   "cell_type": "code",
   "execution_count": 42,
   "metadata": {},
   "outputs": [
    {
     "name": "stdout",
     "output_type": "stream",
     "text": [
      "[[ 1.68642637e+14]\n",
      " [-5.52127297e-03]\n",
      " [-2.43073970e-03]\n",
      " [-4.98868895e-04]\n",
      " [-5.66101949e-03]\n",
      " [-2.42968948e-03]\n",
      " [ 1.38149780e-04]\n",
      " [ 9.69649712e+13]\n",
      " [ 9.69649712e+13]\n",
      " [ 9.69649712e+13]\n",
      " [ 7.16776661e+13]\n",
      " [ 7.16776661e+13]\n",
      " [ 7.16776661e+13]\n",
      " [ 2.55699158e-01]\n",
      " [-2.90275574e-01]\n",
      " [ 5.65765381e-01]]\n"
     ]
    }
   ],
   "source": [
    "# Run the compute graph\n",
    "with tf.Session() as sess:\n",
    "    theta_value = theta.eval()\n",
    "    print(theta_value)"
   ]
  },
  {
   "cell_type": "code",
   "execution_count": 43,
   "metadata": {},
   "outputs": [],
   "source": [
    "model = tf.Variable(tf.constant(theta_value, dtype=tf.float64), name=\"model\")\n",
    "\n",
    "init = tf.global_variables_initializer()\n",
    "saver = tf.train.Saver()\n",
    "\n",
    "with tf.Session() as saver_sess:\n",
    "    init.run()\n",
    "    theta_value = model.eval()\n",
    "    save_path = saver.save(saver_sess, \"../final_project/TensorFlow/Final Project Linear Regression.ckpt\")\n",
    "    file_writer = tf.summary.FileWriter('../final_project/TensorFlow/graphs', sess.graph)\n",
    "    file_writer.close()\n",
    "\n",
    "\n"
   ]
  },
  {
   "cell_type": "code",
   "execution_count": 44,
   "metadata": {
    "scrolled": true
   },
   "outputs": [
    {
     "name": "stdout",
     "output_type": "stream",
     "text": [
      "Final Project Linear Regression.ckpt.data-00000-of-00001\r\n",
      "Final Project Linear Regression.ckpt.index\r\n",
      "Final Project Linear Regression.ckpt.meta\r\n",
      "checkpoint\r\n",
      "\u001b[34mgraphs\u001b[m\u001b[m\r\n"
     ]
    }
   ],
   "source": [
    "!ls \"../final_project/TensorFlow/\""
   ]
  },
  {
   "cell_type": "code",
   "execution_count": 45,
   "metadata": {},
   "outputs": [],
   "source": [
    "\n",
    "\n",
    "sess_restore = tf.Session()\n",
    "\n",
    "saver = tf.train.import_meta_graph('../final_project/TensorFlow/Final Project Linear Regression.ckpt.meta')\n",
    "saver.restore(sess_restore,tf.train.latest_checkpoint('../final_project/TensorFlow/'))\n",
    "\n",
    "theta_value = sess_restore.run('model:0')\n",
    "\n",
    "\n",
    "sess_restore.close()\n"
   ]
  },
  {
   "cell_type": "code",
   "execution_count": 46,
   "metadata": {},
   "outputs": [],
   "source": [
    "predicted_value = theta_value[0][0]\n",
    "linear_coefficients = theta_value[1:]\n",
    "for j, c in enumerate(linear_coefficients):\n",
    "    predicted_value += c[:] * machine_data[:][j]"
   ]
  },
  {
   "cell_type": "code",
   "execution_count": 47,
   "metadata": {},
   "outputs": [
    {
     "data": {
      "text/plain": [
       "array([[-2.43073970e-03],\n",
       "       [-4.98868895e-04],\n",
       "       [-5.66101949e-03],\n",
       "       [-2.42968948e-03],\n",
       "       [ 1.38149780e-04],\n",
       "       [ 9.69649712e+13],\n",
       "       [ 9.69649712e+13],\n",
       "       [ 9.69649712e+13],\n",
       "       [ 7.16776661e+13],\n",
       "       [ 7.16776661e+13],\n",
       "       [ 7.16776661e+13],\n",
       "       [ 2.55699158e-01],\n",
       "       [-2.90275574e-01],\n",
       "       [ 5.65765381e-01]])"
      ]
     },
     "execution_count": 47,
     "metadata": {},
     "output_type": "execute_result"
    }
   ],
   "source": [
    "linear_coefficients[1:]"
   ]
  },
  {
   "cell_type": "code",
   "execution_count": 48,
   "metadata": {},
   "outputs": [
    {
     "data": {
      "text/plain": [
       "1    -1\n",
       "2    -1\n",
       "3    -1\n",
       "4    -1\n",
       "5    -1\n",
       "6     1\n",
       "7     1\n",
       "8     1\n",
       "9     1\n",
       "10    1\n",
       "11    1\n",
       "12    1\n",
       "13    1\n",
       "14   -1\n",
       "15    1\n",
       "dtype: int64"
      ]
     },
     "execution_count": 48,
     "metadata": {},
     "output_type": "execute_result"
    }
   ],
   "source": [
    "def labels(x):\n",
    "    if x > 0:\n",
    "        return 1\n",
    "    else:\n",
    "        return -1\n",
    "    \n",
    "y_pred = pd.Series(theta_value.flatten()).apply(labels)[1:]\n",
    "y_pred"
   ]
  },
  {
   "cell_type": "code",
   "execution_count": 49,
   "metadata": {},
   "outputs": [],
   "source": [
    "y_actual = machine_target[:15]"
   ]
  },
  {
   "cell_type": "code",
   "execution_count": 50,
   "metadata": {},
   "outputs": [],
   "source": [
    "dict2 = {\"actual\":y_actual, \"predicted\":y_pred}"
   ]
  },
  {
   "cell_type": "code",
   "execution_count": 51,
   "metadata": {},
   "outputs": [
    {
     "data": {
      "text/html": [
       "<div>\n",
       "<style scoped>\n",
       "    .dataframe tbody tr th:only-of-type {\n",
       "        vertical-align: middle;\n",
       "    }\n",
       "\n",
       "    .dataframe tbody tr th {\n",
       "        vertical-align: top;\n",
       "    }\n",
       "\n",
       "    .dataframe thead th {\n",
       "        text-align: right;\n",
       "    }\n",
       "</style>\n",
       "<table border=\"1\" class=\"dataframe\">\n",
       "  <thead>\n",
       "    <tr style=\"text-align: right;\">\n",
       "      <th></th>\n",
       "      <th>actual</th>\n",
       "      <th>predicted</th>\n",
       "    </tr>\n",
       "  </thead>\n",
       "  <tbody>\n",
       "    <tr>\n",
       "      <th>1</th>\n",
       "      <td>1</td>\n",
       "      <td>-1</td>\n",
       "    </tr>\n",
       "    <tr>\n",
       "      <th>2</th>\n",
       "      <td>-1</td>\n",
       "      <td>-1</td>\n",
       "    </tr>\n",
       "    <tr>\n",
       "      <th>3</th>\n",
       "      <td>-1</td>\n",
       "      <td>-1</td>\n",
       "    </tr>\n",
       "    <tr>\n",
       "      <th>4</th>\n",
       "      <td>1</td>\n",
       "      <td>-1</td>\n",
       "    </tr>\n",
       "    <tr>\n",
       "      <th>5</th>\n",
       "      <td>1</td>\n",
       "      <td>-1</td>\n",
       "    </tr>\n",
       "    <tr>\n",
       "      <th>6</th>\n",
       "      <td>-1</td>\n",
       "      <td>1</td>\n",
       "    </tr>\n",
       "    <tr>\n",
       "      <th>7</th>\n",
       "      <td>1</td>\n",
       "      <td>1</td>\n",
       "    </tr>\n",
       "    <tr>\n",
       "      <th>8</th>\n",
       "      <td>-1</td>\n",
       "      <td>1</td>\n",
       "    </tr>\n",
       "    <tr>\n",
       "      <th>9</th>\n",
       "      <td>1</td>\n",
       "      <td>1</td>\n",
       "    </tr>\n",
       "    <tr>\n",
       "      <th>10</th>\n",
       "      <td>1</td>\n",
       "      <td>1</td>\n",
       "    </tr>\n",
       "    <tr>\n",
       "      <th>11</th>\n",
       "      <td>1</td>\n",
       "      <td>1</td>\n",
       "    </tr>\n",
       "    <tr>\n",
       "      <th>12</th>\n",
       "      <td>1</td>\n",
       "      <td>1</td>\n",
       "    </tr>\n",
       "    <tr>\n",
       "      <th>13</th>\n",
       "      <td>1</td>\n",
       "      <td>1</td>\n",
       "    </tr>\n",
       "    <tr>\n",
       "      <th>14</th>\n",
       "      <td>1</td>\n",
       "      <td>-1</td>\n",
       "    </tr>\n",
       "    <tr>\n",
       "      <th>15</th>\n",
       "      <td>-1</td>\n",
       "      <td>1</td>\n",
       "    </tr>\n",
       "  </tbody>\n",
       "</table>\n",
       "</div>"
      ],
      "text/plain": [
       "    actual  predicted\n",
       "1        1         -1\n",
       "2       -1         -1\n",
       "3       -1         -1\n",
       "4        1         -1\n",
       "5        1         -1\n",
       "6       -1          1\n",
       "7        1          1\n",
       "8       -1          1\n",
       "9        1          1\n",
       "10       1          1\n",
       "11       1          1\n",
       "12       1          1\n",
       "13       1          1\n",
       "14       1         -1\n",
       "15      -1          1"
      ]
     },
     "execution_count": 51,
     "metadata": {},
     "output_type": "execute_result"
    }
   ],
   "source": [
    "pd.DataFrame(dict2)"
   ]
  },
  {
   "cell_type": "code",
   "execution_count": 52,
   "metadata": {},
   "outputs": [
    {
     "name": "stdout",
     "output_type": "stream",
     "text": [
      "Mean Absolute Error: 0.9333333333333333\n",
      "Mean Squared Error: 1.8666666666666667\n",
      "Root Mean Squared Error: 1.3662601021279464\n"
     ]
    }
   ],
   "source": [
    "print('Mean Absolute Error:', metrics.mean_absolute_error(y_actual, y_pred))  \n",
    "print('Mean Squared Error:', metrics.mean_squared_error(y_actual, y_pred))  \n",
    "print('Root Mean Squared Error:', np.sqrt(metrics.mean_squared_error(y_actual, y_pred)))"
   ]
  },
  {
   "cell_type": "code",
   "execution_count": 53,
   "metadata": {},
   "outputs": [
    {
     "name": "stdout",
     "output_type": "stream",
     "text": [
      "0.5333333333333333\n",
      "0.6\n",
      "0.4\n",
      "0.6666666666666666\n"
     ]
    }
   ],
   "source": [
    "from sklearn.metrics import confusion_matrix\n",
    "\n",
    "CM = confusion_matrix(y_actual, y_pred)\n",
    "\n",
    "TN = CM[0][0]\n",
    "FN = CM[1][0]\n",
    "TP = CM[1][1]\n",
    "FP = CM[0][1]\n",
    "\n",
    "accuracy = (TP + TN)/(TP + FP + FN + TN); print(accuracy);\n",
    "sensitivity = TP/ (TP + FN); print(sensitivity);\n",
    "specificity = TN / (FP + TN); print(specificity);\n",
    "ppv = TP/ (FP +TP); print(ppv)"
   ]
  },
  {
   "cell_type": "code",
   "execution_count": 54,
   "metadata": {},
   "outputs": [
    {
     "data": {
      "text/plain": [
       "Reusing TensorBoard on port 8008 (pid 16457), started 0:00:31 ago. (Use '!kill 16457' to kill it.)"
      ]
     },
     "metadata": {},
     "output_type": "display_data"
    },
    {
     "data": {
      "text/html": [
       "\n",
       "      <iframe id=\"tensorboard-frame-10996a2e045baa29\" width=\"100%\" height=\"800\" frameborder=\"0\">\n",
       "      </iframe>\n",
       "      <script>\n",
       "        (function() {\n",
       "          const frame = document.getElementById(\"tensorboard-frame-10996a2e045baa29\");\n",
       "          const url = new URL(\"/\", window.location);\n",
       "          url.port = 8008;\n",
       "          frame.src = url;\n",
       "        })();\n",
       "      </script>\n",
       "  "
      ],
      "text/plain": [
       "<IPython.core.display.HTML object>"
      ]
     },
     "metadata": {},
     "output_type": "display_data"
    }
   ],
   "source": [
    "tensorboard --logdir=\"../final_project/TensorFlow/graphs\" --port=8008"
   ]
  },
  {
   "cell_type": "code",
   "execution_count": null,
   "metadata": {},
   "outputs": [],
   "source": []
  }
 ],
 "metadata": {
  "kernelspec": {
   "display_name": "tf1x",
   "language": "python",
   "name": "tf1x"
  },
  "language_info": {
   "codemirror_mode": {
    "name": "ipython",
    "version": 3
   },
   "file_extension": ".py",
   "mimetype": "text/x-python",
   "name": "python",
   "nbconvert_exporter": "python",
   "pygments_lexer": "ipython3",
   "version": "3.7.6"
  }
 },
 "nbformat": 4,
 "nbformat_minor": 4
}
