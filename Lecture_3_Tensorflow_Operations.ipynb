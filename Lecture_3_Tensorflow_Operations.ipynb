{
 "cells": [
  {
   "cell_type": "code",
   "execution_count": 1,
   "metadata": {},
   "outputs": [],
   "source": [
    "import tensorflow as tf\n",
    "%load_ext tensorboard\n",
    "import logging\n",
    "logging.getLogger('tensorflow').setLevel(logging.ERROR)\n",
    "\n",
    "import numpy as np\n",
    "import matplotlib.pyplot as plt\n",
    "%matplotlib inline\n",
    "import pandas as pd \n",
    "import seaborn as sns\n",
    "from scipy import stats \n",
    "from scipy import linalg"
   ]
  },
  {
   "cell_type": "code",
   "execution_count": 2,
   "metadata": {},
   "outputs": [
    {
     "name": "stdout",
     "output_type": "stream",
     "text": [
      "1.15.0\n"
     ]
    }
   ],
   "source": [
    "print(tf.__version__)"
   ]
  },
  {
   "cell_type": "markdown",
   "metadata": {},
   "source": [
    "---- \n",
    "**Detecting Spikes**\n",
    "\n"
   ]
  },
  {
   "cell_type": "raw",
   "metadata": {},
   "source": [
    "sess = tf.InteractiveSession()\n",
    "\n",
    "\"\"\"\n",
    "Create a boolean variable called 'spike' to detect a sudden increase in a series of numbers.\n",
    "Since all variables must be initialized, initialize the variable by calling 'run' on its 'initializer':\n",
    "\"\"\"\n",
    "vector = [3., -2., 8, -4., 0.2, 2.3, 7.5, 14.8]\n",
    "spike = tf.Variable(False)\n",
    "\n",
    "\n",
    "\"\"\" Initializing our variable in one of two ways (choose one)\"\"\"\n",
    "\n",
    "#sess.run(spike.initializer)\n",
    "spike.initializer.run()\n",
    "\n",
    "\n",
    "#Loop through the data and update the spike variable when there is a significant increase\n",
    "\n",
    "for i in range(1, len(vector)):\n",
    "    if vector[i] - vector[i - 1] > 5:\n",
    "        updater = tf.assign(spike, tf.constant(True))\n",
    "        updater.eval()\n",
    "    else:\n",
    "        tf.assign(spike, False).eval()\n",
    "    print(\"Spike\", spike.eval())\n",
    "\n",
    "# Check to see if there some unitialized variables:\n",
    "print(sess.run(tf.report_uninitialized_variables()))   \n",
    "\n",
    "sess.close()"
   ]
  },
  {
   "cell_type": "markdown",
   "metadata": {},
   "source": [
    "--------\n",
    "\n",
    "**Saving Variables in Tensorflow**"
   ]
  },
  {
   "cell_type": "code",
   "execution_count": 3,
   "metadata": {},
   "outputs": [
    {
     "name": "stdout",
     "output_type": "stream",
     "text": [
      "spikes data saved in file ./spikes/spikes.ckpt\n"
     ]
    }
   ],
   "source": [
    "sess = tf.InteractiveSession()\n",
    "\n",
    "\n",
    "#Create a boolean variable called 'spike' to detect a sudden increase in a series of numbers.\n",
    "#since all variables must be initialized, initialize the variable by calling 'run' on its 'initializer':\n",
    "\n",
    "vector = [3., -2., 8, -4., 0.2, 2.3, 7.5, 14.8]\n",
    "spikes = tf.Variable([False] * len(vector), name='spikes')\n",
    "\n",
    "#sess.run(spike.initializer)\n",
    "spikes.initializer.run()\n",
    "\n",
    "# The saver op will enable saving and restoring\n",
    "saver = tf.train.Saver()\n",
    "\n",
    "# Loop through the data and update the spike variable when there is a significant increase\n",
    "for i in range(1, len(vector)):\n",
    "    if vector[i] - vector[i - 1] >5:\n",
    "        spikes_val = spikes.eval()\n",
    "        spikes_val[i] = True\n",
    "        updater = tf.assign(spikes, spikes_val)\n",
    "        updater.eval()\n",
    "\n",
    "save_path = saver.save(sess, \"./spikes/spikes.ckpt\")\n",
    "print(\"spikes data saved in file %s\" % save_path)\n",
    "\n",
    "sess.close()"
   ]
  },
  {
   "cell_type": "markdown",
   "metadata": {},
   "source": [
    "**Loading Variables in Tensorflow** "
   ]
  },
  {
   "cell_type": "code",
   "execution_count": 4,
   "metadata": {},
   "outputs": [],
   "source": [
    "#sess = tf.InteractiveSession()\n",
    "\n",
    "#spikes = tf.Variable([False] *8, name = 'spikes')\n",
    "\n",
    "#saver = tf.train.Saver()\n",
    "\n",
    "#saver.restore(sess, \"./spikes.ckpt\")\n",
    "#print(spikes.eval())\n",
    "#sess.close()"
   ]
  },
  {
   "cell_type": "markdown",
   "metadata": {},
   "source": [
    "-----\n",
    "**More on constructing the actual graph using Tensorboard**"
   ]
  },
  {
   "cell_type": "code",
   "execution_count": 5,
   "metadata": {},
   "outputs": [],
   "source": [
    "\n",
    "# Let's define our input nodes:\n",
    "a = tf.constant(5, name=\"input_a\")\n",
    "b = tf.constant(3, name =\"input_b\")\n",
    "\n",
    "#Defining the next two nodes in our graph:\n",
    "c = tf.multiply(a,b, name=\"mul_c\")\n",
    "d = tf.add(a,b, name = \"add_d\")\n",
    "\n",
    "# this last line defines the final node in our graph\n",
    "e = tf.add(c,d, name = 'add_e')\n"
   ]
  },
  {
   "cell_type": "code",
   "execution_count": 6,
   "metadata": {},
   "outputs": [],
   "source": [
    "# To create the graph:\n",
    "sess = tf.Session()\n",
    "file_writer = tf.summary.FileWriter('./graphs', sess.graph)\n",
    "\n",
    "# We clean up before we exit()\n",
    "file_writer.close()\n",
    "sess.close()\n"
   ]
  },
  {
   "cell_type": "code",
   "execution_count": 7,
   "metadata": {},
   "outputs": [
    {
     "data": {
      "text/plain": [
       "Reusing TensorBoard on port 8008 (pid 1457), started 1:24:48 ago. (Use '!kill 1457' to kill it.)"
      ]
     },
     "metadata": {},
     "output_type": "display_data"
    },
    {
     "data": {
      "text/html": [
       "\n",
       "      <iframe id=\"tensorboard-frame-bc75df657ec5ac8e\" width=\"100%\" height=\"800\" frameborder=\"0\">\n",
       "      </iframe>\n",
       "      <script>\n",
       "        (function() {\n",
       "          const frame = document.getElementById(\"tensorboard-frame-bc75df657ec5ac8e\");\n",
       "          const url = new URL(\"/\", window.location);\n",
       "          url.port = 8008;\n",
       "          frame.src = url;\n",
       "        })();\n",
       "      </script>\n",
       "  "
      ],
      "text/plain": [
       "<IPython.core.display.HTML object>"
      ]
     },
     "metadata": {},
     "output_type": "display_data"
    }
   ],
   "source": [
    "tensorboard --logdir=\"./graphs\" --port=8008"
   ]
  },
  {
   "cell_type": "markdown",
   "metadata": {},
   "source": [
    "----\n",
    "\n",
    "**TensorFlow Operations**\n",
    "\n"
   ]
  },
  {
   "cell_type": "code",
   "execution_count": 8,
   "metadata": {},
   "outputs": [
    {
     "data": {
      "text/plain": [
       "numpy.ndarray"
      ]
     },
     "execution_count": 8,
     "metadata": {},
     "output_type": "execute_result"
    }
   ],
   "source": [
    "# initialize some tensors to use in computation\n",
    "a = np.array([2,3], dtype = np.int32)\n",
    "b = np.array([4,5], dtype = np.int32)\n",
    "\n",
    "type(a)\n"
   ]
  },
  {
   "cell_type": "code",
   "execution_count": 9,
   "metadata": {},
   "outputs": [
    {
     "name": "stdout",
     "output_type": "stream",
     "text": [
      "<class 'tensorflow.python.framework.ops.Tensor'>\n",
      "[6 8]\n"
     ]
    }
   ],
   "source": [
    "# Use 'tf.add()' to initialize an \"add\" Operation\n",
    "# The variable 'c' will be handle to the Tensor output of this op\n",
    "sess = tf.InteractiveSession()\n",
    "c = tf.add(a,b)\n",
    "\n",
    "print(type(c))\n",
    "print(c.eval())\n",
    "\n",
    "sess.close()"
   ]
  },
  {
   "cell_type": "markdown",
   "metadata": {},
   "source": [
    "**Overloarded operators**\n",
    "\n",
    "- Tensorflow also overloads common mathematical operators to make multiplication, addition, subtraction and other operations more conise\n",
    "- if one or more arguments to the operator is a tensorflow object, a tensorflow operation will be called and added to the graph\n",
    "    - for example, you can easily add two tensors together like this\n",
    "    \n",
    " "
   ]
  },
  {
   "cell_type": "code",
   "execution_count": 10,
   "metadata": {},
   "outputs": [
    {
     "name": "stdout",
     "output_type": "stream",
     "text": [
      "<class 'tensorflow.python.framework.ops.Tensor'>\n",
      "[6 8]\n"
     ]
    }
   ],
   "source": [
    "sess = tf.InteractiveSession()\n",
    "a = tf.constant([2,3])\n",
    "b = tf.constant([4,5])\n",
    "c = a + b\n",
    "\n",
    "print(type(c))\n",
    "print(c.eval())\n",
    "\n",
    "sess.close()"
   ]
  },
  {
   "cell_type": "markdown",
   "metadata": {},
   "source": [
    "-----\n",
    "\n",
    "**Creating Aliases**\n",
    "- Tensorflow allows us to create aliases for all common mathematical operators such as negation, subtract, multiplication, or other operations to be more concise \n",
    "    - for example, you can easily create aliases like this:"
   ]
  },
  {
   "cell_type": "code",
   "execution_count": 11,
   "metadata": {},
   "outputs": [],
   "source": [
    "tf.neg = tf.negative #returns the negative value of each element in x \n",
    "tf.sub = tf.subtract # subtract y from x, element-wise \n",
    "tf.mul = tf.multiply # # multiply x and y, element-wise \n"
   ]
  },
  {
   "cell_type": "markdown",
   "metadata": {},
   "source": [
    "**overloarded operators and  logicals**\n",
    "\n",
    "\n",
    "        tf.add()\n",
    "        tf.div()\n",
    "        tf.mod()\n",
    "        tf.pow()\n",
    "        tf.less()\n",
    "        tf.less_equal()\n",
    "        tf.greater()\n",
    "        tf.logical_and()\n",
    "        tf.logical_or()\n",
    "\n",
    "**To check for equality or inequality try**\n",
    "\n",
    "        tf.equal() and tf.not_equal\n",
    "        but don't use =="
   ]
  },
  {
   "cell_type": "markdown",
   "metadata": {},
   "source": [
    "---\n",
    "\n",
    "**TensorFlow graphs**\n",
    "- Creating a Graph is simple:\n",
    "    - its constructor doesn't take any variables\n",
    "    - once we have our graph initialized, we can add Operations to it:"
   ]
  },
  {
   "cell_type": "code",
   "execution_count": 12,
   "metadata": {},
   "outputs": [],
   "source": [
    "# Create new graph\n",
    "g = tf.Graph()\n",
    "\n",
    "with g.as_default():\n",
    "    # Create operations as usual; they will be added to graph 'g'\n",
    "    a = tf.mul(2,3)\n",
    "    "
   ]
  },
  {
   "cell_type": "markdown",
   "metadata": {},
   "source": [
    "- TensorFlow automatically creates a Graph when the library is loaded and assigns it to be the default\n",
    "    - Thus, any operations, tensors, etc. defined outside of a 'Graph.as_default()' context manager will automatically be placed in the default graph:\n",
    "    "
   ]
  },
  {
   "cell_type": "code",
   "execution_count": 13,
   "metadata": {},
   "outputs": [],
   "source": [
    "# Placed in the default grap\n",
    "in_default_graph = tf.add(1,2)\n",
    "\n",
    "#Placed in graph 'g'\n",
    "with g.as_default():\n",
    "    in_graph_g = tf.mul(2,3)\n",
    "\n",
    "# We are no longer in the 'with' block, so this is placed in the default graph\n",
    "also_in_default_graph = tf.sub(5,1)"
   ]
  },
  {
   "cell_type": "markdown",
   "metadata": {},
   "source": [
    "- if you'd like to get a handle to the default graph, use this\n",
    "  "
   ]
  },
  {
   "cell_type": "code",
   "execution_count": 14,
   "metadata": {},
   "outputs": [],
   "source": [
    "default_graph = tf.get_default_graph()"
   ]
  },
  {
   "cell_type": "markdown",
   "metadata": {},
   "source": [
    "  - when defining multiple graphs in one file, it's better to either not use the default graph or immediately assign a handle to it \n",
    "    - this ensures that nodes are added to each graph in a uniform manner\n",
    "    \n",
    " **Correct - Create new graphs, ignore default graph**"
   ]
  },
  {
   "cell_type": "code",
   "execution_count": 15,
   "metadata": {},
   "outputs": [],
   "source": [
    "g1 = tf.Graph()\n",
    "g2 = tf.Graph()\n",
    "\n",
    "with g1.as_default():\n",
    "    ...\n",
    "    \n",
    "with g2.as_default():\n",
    "    ..."
   ]
  },
  {
   "cell_type": "markdown",
   "metadata": {},
   "source": [
    " **Correct - Get handle to default graph**"
   ]
  },
  {
   "cell_type": "code",
   "execution_count": 16,
   "metadata": {},
   "outputs": [],
   "source": [
    "g1 = tf.get_default_graph()\n",
    "g2 = tf.Graph()\n",
    "\n",
    "with g1.as_default():\n",
    "    ...\n",
    "    \n",
    "with g2.as_default():\n",
    "    ..."
   ]
  },
  {
   "cell_type": "markdown",
   "metadata": {},
   "source": [
    "**Incorrect - Mixed default graph and user-created graph styles:**"
   ]
  },
  {
   "cell_type": "code",
   "execution_count": 17,
   "metadata": {},
   "outputs": [],
   "source": [
    "g2 = tf.Graph()\n",
    "\n",
    "with g2.as_default():\n",
    "    ..."
   ]
  },
  {
   "cell_type": "markdown",
   "metadata": {},
   "source": [
    "- Additionally, it is possible to load in previously defined modesl from other TensorFlow scripts and assign them to Graph objects\n",
    "\n",
    "            graph.as_graph_def()\n",
    "            tf.import_graph_def\n",
    "- thus, a user can compute and use the output of several separate models in the same Python file."
   ]
  },
  {
   "cell_type": "markdown",
   "metadata": {},
   "source": [
    "----\n",
    "**Fetching a list in Session**"
   ]
  },
  {
   "cell_type": "code",
   "execution_count": 18,
   "metadata": {},
   "outputs": [
    {
     "data": {
      "text/plain": [
       "[7, 21]"
      ]
     },
     "execution_count": 18,
     "metadata": {},
     "output_type": "execute_result"
    }
   ],
   "source": [
    "# Create Operations, Tensors, etc (using the default graph)\n",
    "a = tf.add(2,5)\n",
    "b = tf.mul(a,3)\n",
    "\n",
    "#Start up a 'Session' using the default graph\n",
    "sess = tf.Session()\n",
    "sess.run([a,b])\n"
   ]
  },
  {
   "cell_type": "code",
   "execution_count": 19,
   "metadata": {},
   "outputs": [],
   "source": [
    "sess.close()\n"
   ]
  },
  {
   "cell_type": "markdown",
   "metadata": {},
   "source": [
    "\n",
    "        tf.global_variables_initializer()\n",
    "- prepares all tensorflow variable objects to be used "
   ]
  },
  {
   "cell_type": "code",
   "execution_count": 20,
   "metadata": {},
   "outputs": [],
   "source": [
    "#sess.run(tf.initialize_all_variables())"
   ]
  },
  {
   "cell_type": "markdown",
   "metadata": {},
   "source": [
    "**feed dict**"
   ]
  },
  {
   "cell_type": "code",
   "execution_count": 21,
   "metadata": {},
   "outputs": [
    {
     "data": {
      "text/plain": [
       "45"
      ]
     },
     "execution_count": 21,
     "metadata": {},
     "output_type": "execute_result"
    }
   ],
   "source": [
    "# Create Operations, Tensors, etc (using the default graph)\n",
    "a = tf.add(2,5)\n",
    "b = tf.mul(a,3)\n",
    "\n",
    "#Start up a 'Session' using the default graph\n",
    "sess = tf.Session()\n",
    "\n",
    "replace_dict = {a: 15}\n",
    "\n",
    "sess.run(b, feed_dict= replace_dict)"
   ]
  },
  {
   "cell_type": "code",
   "execution_count": 22,
   "metadata": {},
   "outputs": [],
   "source": [
    "sess.close()\n"
   ]
  },
  {
   "cell_type": "markdown",
   "metadata": {},
   "source": [
    "-------\n",
    "\n",
    "**Class Exercise**\n",
    "\n",
    "- Create and plot a normally distributed cluster of random numbers, say [2,20]\n",
    "- create and plot two clusters using poison distribution, say [6,20], [2,20] in red \n",
    "- comment on your result"
   ]
  },
  {
   "cell_type": "code",
   "execution_count": 23,
   "metadata": {},
   "outputs": [
    {
     "data": {
      "text/plain": [
       "<matplotlib.collections.PathCollection at 0x1312c1450>"
      ]
     },
     "execution_count": 23,
     "metadata": {},
     "output_type": "execute_result"
    },
    {
     "data": {
      "image/png": "[encoded data removed]",
      "text/plain": [
       "<Figure size 432x288 with 1 Axes>"
      ]
     },
     "metadata": {
      "needs_background": "light"
     },
     "output_type": "display_data"
    }
   ],
   "source": [
    "a = tf.random_normal([2,20])\n",
    "sess = tf.Session()\n",
    "out = sess.run(a)\n",
    "\n",
    "x,y = out\n",
    "plt.scatter(x,y)\n"
   ]
  },
  {
   "cell_type": "code",
   "execution_count": 24,
   "metadata": {},
   "outputs": [
    {
     "data": {
      "text/plain": [
       "<matplotlib.collections.PathCollection at 0x1312c1250>"
      ]
     },
     "execution_count": 24,
     "metadata": {},
     "output_type": "execute_result"
    },
    {
     "data": {
      "image/png": "[encoded data removed]",
      "text/plain": [
       "<Figure size 432x288 with 1 Axes>"
      ]
     },
     "metadata": {
      "needs_background": "light"
     },
     "output_type": "display_data"
    }
   ],
   "source": [
    "b = tf.random_poisson([6,20],[2,20])\n",
    "sess = tf.Session()\n",
    "out = sess.run(b)\n",
    "\n",
    "x,y = out\n",
    "plt.scatter(x,y, alpha = 0.35,  edgecolors = 'black', color = 'red')"
   ]
  },
  {
   "cell_type": "markdown",
   "metadata": {},
   "source": [
    "----\n",
    "**Tensorflow Placeholder**\n",
    "\n",
    "- adding inputs with placeholder nodes\n",
    "    - 'tf.placeholder' takes in a required parameter dtype, as well as the optional parameter shape \n",
    "            \n",
    "            dtype: species the data type of values that will be passed into the placeholder. \n",
    "                This is required, in order to ensure that there will be no type mismatch errors\n",
    "            shape: specifies what shape the fed Tensor will be. The default value of shape is None, \n",
    "                which means a Tensor of any shape will be accepted."
   ]
  },
  {
   "cell_type": "code",
   "execution_count": 25,
   "metadata": {},
   "outputs": [
    {
     "data": {
      "text/plain": [
       "(2,)"
      ]
     },
     "execution_count": 25,
     "metadata": {},
     "output_type": "execute_result"
    }
   ],
   "source": [
    "np.array([5,3]).shape"
   ]
  },
  {
   "cell_type": "code",
   "execution_count": 26,
   "metadata": {},
   "outputs": [],
   "source": [
    "a = tf.placeholder(tf.int32, shape =[2], name =\"my_input\")\n",
    "b = tf.reduce_prod(a, name = \"prod_b\")\n",
    "c = tf.reduce_sum(a, name =\"sum_c\")\n",
    "d = tf.add(b,c, name=\"add_d\")\n",
    "sess = tf.Session()\n",
    "\n",
    "input_dict = {a: np.array([5,3], dtype = np.int32)}\n",
    "\n",
    "sess.run(d, feed_dict=input_dict)\n",
    "writer = tf.summary.FileWriter('./hw_2', sess.graph)\n",
    "\n",
    "#Closer our FileWriter and Session objects\n",
    "writer.close()\n",
    "sess.close()"
   ]
  },
  {
   "cell_type": "code",
   "execution_count": 27,
   "metadata": {},
   "outputs": [
    {
     "data": {
      "text/plain": [
       "Reusing TensorBoard on port 6010 (pid 1627), started 0:22:57 ago. (Use '!kill 1627' to kill it.)"
      ]
     },
     "metadata": {},
     "output_type": "display_data"
    },
    {
     "data": {
      "text/html": [
       "\n",
       "      <iframe id=\"tensorboard-frame-11072d0cce5a42c\" width=\"100%\" height=\"800\" frameborder=\"0\">\n",
       "      </iframe>\n",
       "      <script>\n",
       "        (function() {\n",
       "          const frame = document.getElementById(\"tensorboard-frame-11072d0cce5a42c\");\n",
       "          const url = new URL(\"/\", window.location);\n",
       "          url.port = 6010;\n",
       "          frame.src = url;\n",
       "        })();\n",
       "      </script>\n",
       "  "
      ],
      "text/plain": [
       "<IPython.core.display.HTML object>"
      ]
     },
     "metadata": {},
     "output_type": "display_data"
    }
   ],
   "source": [
    "tensorboard --logdir=\"./hw_2/\" "
   ]
  },
  {
   "cell_type": "markdown",
   "metadata": {},
   "source": [
    "-----\n",
    "**TensorFlow Variables**\n",
    "\n",
    "- Tensor and Objects are immutable\n",
    "- We need a way to save changing values over time\n",
    "- This is accomplished in TensorFlow with Variable objects\n",
    "- You can create a Variable by using its constructor \n",
    "        \n",
    "        tf.Variable()"
   ]
  },
  {
   "cell_type": "code",
   "execution_count": 28,
   "metadata": {},
   "outputs": [],
   "source": [
    "# Pass in a starting value of three for the variable\n",
    "my_var = tf.Variable(3, name = \"my_variable\")"
   ]
  },
  {
   "cell_type": "markdown",
   "metadata": {},
   "source": [
    "its present value will be passed on to the Operation using it:\n"
   ]
  },
  {
   "cell_type": "code",
   "execution_count": 29,
   "metadata": {},
   "outputs": [],
   "source": [
    "add = tf.add(5, my_var)\n",
    "mul = tf.mul(8, my_var)"
   ]
  },
  {
   "cell_type": "markdown",
   "metadata": {},
   "source": [
    "**Helpher ops**\n",
    "\n",
    "        tf.zeros()\n",
    "        tf.ones()\n",
    "        tf.random_normal()\n",
    "        tf.random_uniform()"
   ]
  },
  {
   "cell_type": "code",
   "execution_count": 30,
   "metadata": {},
   "outputs": [],
   "source": [
    "# 3x3x3 Tensor pf normally distributed numbers; mean 0 and sd 2\n",
    "normal = tf.random_normal([3,3,3], mean = 0.0, stddev = 2.0)\n",
    "# or \n",
    "trunc = tf.truncated_normal([3,3,3], mean = 0.0, stddev = 2.0)"
   ]
  },
  {
   "cell_type": "markdown",
   "metadata": {},
   "source": [
    "can pass in these operations as the initial values of variables"
   ]
  },
  {
   "cell_type": "code",
   "execution_count": 31,
   "metadata": {},
   "outputs": [],
   "source": [
    "random_var = tf.Variable(trunc)"
   ]
  },
  {
   "cell_type": "markdown",
   "metadata": {},
   "source": [
    "**Initializing Variables**\n",
    "\n",
    "- Variable objects live in the graph like most other tensorflow objects, but their state is actually mananged by a session\n",
    "    - because of this, variables have an extra step involved in order to use them:\n",
    "        - you must initialize the variable within a session"
   ]
  },
  {
   "cell_type": "code",
   "execution_count": 32,
   "metadata": {},
   "outputs": [],
   "source": [
    "add = tf.add(5, my_var)\n",
    "mul = tf.mul(8, my_var) \n",
    "\n",
    "init = tf.initialize_all_variables()\n",
    "sess = tf.Session()\n",
    "sess.run(init)"
   ]
  },
  {
   "cell_type": "markdown",
   "metadata": {},
   "source": [
    "**Tensorflow changing variables**\n",
    "\n",
    "- if you only like to intialize a subset of variables defined in teh graph, you can use \n",
    "\n",
    "        tf.variables_initializer()"
   ]
  },
  {
   "cell_type": "code",
   "execution_count": 33,
   "metadata": {},
   "outputs": [
    {
     "data": {
      "text/plain": [
       "0"
      ]
     },
     "execution_count": 33,
     "metadata": {},
     "output_type": "execute_result"
    }
   ],
   "source": [
    "var1 = tf.Variable(0, name=\"initialize_me\")\n",
    "var2 = tf.Variable(1, name=\"no_initialization\")\n",
    "\n",
    "init = tf.variables_initializer([var1], name=\"init_var1\")\n",
    "sess = tf.Session()\n",
    "sess.run(init)\n",
    "\n",
    "sess.run(var1)\n",
    "#sess.run(var2) will throw an error"
   ]
  },
  {
   "cell_type": "markdown",
   "metadata": {},
   "source": [
    "- in order to change the value of the Variable, you can use the variable.assign() method, which gives the variable the new value\n",
    "\n",
    "Example:"
   ]
  },
  {
   "cell_type": "code",
   "execution_count": 34,
   "metadata": {},
   "outputs": [
    {
     "data": {
      "text/plain": [
       "2"
      ]
     },
     "execution_count": 34,
     "metadata": {},
     "output_type": "execute_result"
    }
   ],
   "source": [
    "my_var = tf.Variable(1)\n",
    "\n",
    "my_var_times_two = my_var.assign(my_var * 2)\n",
    "init = tf.initialize_all_variables()\n",
    "\n",
    "sess = tf.Session()\n",
    "sess.run(init)\n",
    "\n",
    "sess.run(my_var_times_two)"
   ]
  },
  {
   "cell_type": "code",
   "execution_count": 35,
   "metadata": {},
   "outputs": [
    {
     "data": {
      "text/plain": [
       "4"
      ]
     },
     "execution_count": 35,
     "metadata": {},
     "output_type": "execute_result"
    }
   ],
   "source": [
    "\n",
    "sess.run(my_var_times_two)"
   ]
  },
  {
   "cell_type": "code",
   "execution_count": 36,
   "metadata": {},
   "outputs": [
    {
     "data": {
      "text/plain": [
       "8"
      ]
     },
     "execution_count": 36,
     "metadata": {},
     "output_type": "execute_result"
    }
   ],
   "source": [
    "\n",
    "sess.run(my_var_times_two)"
   ]
  },
  {
   "cell_type": "markdown",
   "metadata": {},
   "source": [
    "For simple incrementing and decrementing of Variables\n",
    "        \n",
    "        Variable.assign_add()\n",
    "        Variable.assign_sub()"
   ]
  },
  {
   "cell_type": "code",
   "execution_count": 37,
   "metadata": {},
   "outputs": [
    {
     "data": {
      "text/plain": [
       "9"
      ]
     },
     "execution_count": 37,
     "metadata": {},
     "output_type": "execute_result"
    }
   ],
   "source": [
    "sess.run(my_var.assign_add(1))"
   ]
  },
  {
   "cell_type": "code",
   "execution_count": 38,
   "metadata": {},
   "outputs": [
    {
     "data": {
      "text/plain": [
       "8"
      ]
     },
     "execution_count": 38,
     "metadata": {},
     "output_type": "execute_result"
    }
   ],
   "source": [
    "sess.run(my_var.assign_sub(1))"
   ]
  },
  {
   "cell_type": "markdown",
   "metadata": {},
   "source": [
    "Example:"
   ]
  },
  {
   "cell_type": "code",
   "execution_count": 39,
   "metadata": {},
   "outputs": [
    {
     "data": {
      "text/plain": [
       "5"
      ]
     },
     "execution_count": 39,
     "metadata": {},
     "output_type": "execute_result"
    }
   ],
   "source": [
    "my_var = tf.Variable(0)\n",
    "init = tf.initialize_all_variables()\n",
    "\n",
    "sess1 = tf.Session()\n",
    "sess2 = tf.Session()\n",
    "\n",
    "sess1.run(init)\n",
    "sess1.run(my_var.assign_add(5))\n",
    "\n",
    "\n",
    "\n"
   ]
  },
  {
   "cell_type": "code",
   "execution_count": 40,
   "metadata": {},
   "outputs": [
    {
     "data": {
      "text/plain": [
       "2"
      ]
     },
     "execution_count": 40,
     "metadata": {},
     "output_type": "execute_result"
    }
   ],
   "source": [
    "sess2.run(init)\n",
    "sess2.run(my_var.assign_add(2))\n"
   ]
  },
  {
   "cell_type": "code",
   "execution_count": 41,
   "metadata": {},
   "outputs": [
    {
     "data": {
      "text/plain": [
       "10"
      ]
     },
     "execution_count": 41,
     "metadata": {},
     "output_type": "execute_result"
    }
   ],
   "source": [
    "sess1.run(my_var.assign_add(5))"
   ]
  },
  {
   "cell_type": "code",
   "execution_count": 42,
   "metadata": {},
   "outputs": [
    {
     "data": {
      "text/plain": [
       "4"
      ]
     },
     "execution_count": 42,
     "metadata": {},
     "output_type": "execute_result"
    }
   ],
   "source": [
    "sess2.run(my_var.assign_add(2))"
   ]
  },
  {
   "cell_type": "markdown",
   "metadata": {},
   "source": [
    "to reset your variables to their starting value call \n",
    "\n",
    "    tf.global_variables_initializer() again\n",
    "    or \n",
    "    sess.run(init) after the operations"
   ]
  },
  {
   "cell_type": "markdown",
   "metadata": {},
   "source": [
    "**Tensorflow trainable variables**\n",
    "- optimizer classes automatically train machine learning models\n",
    "- if there are Variables in your graph that should only be changed manually and not with an Optimizer, you need to set their trainable parameter to False when creating them:"
   ]
  },
  {
   "cell_type": "code",
   "execution_count": 43,
   "metadata": {},
   "outputs": [],
   "source": [
    "not_trainable = tf.Variable(0, trainable = False)"
   ]
  },
  {
   "cell_type": "code",
   "execution_count": null,
   "metadata": {},
   "outputs": [],
   "source": []
  }
 ],
 "metadata": {
  "kernelspec": {
   "display_name": "tf1x",
   "language": "python",
   "name": "tf1x"
  },
  "language_info": {
   "codemirror_mode": {
    "name": "ipython",
    "version": 3
   },
   "file_extension": ".py",
   "mimetype": "text/x-python",
   "name": "python",
   "nbconvert_exporter": "python",
   "pygments_lexer": "ipython3",
   "version": "3.7.6"
  }
 },
 "nbformat": 4,
 "nbformat_minor": 4
}
